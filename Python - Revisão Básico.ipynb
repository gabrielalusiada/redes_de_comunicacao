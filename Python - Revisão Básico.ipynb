{
 "cells": [
  {
   "cell_type": "markdown",
   "id": "bbe3a867",
   "metadata": {},
   "source": [
    "## Variáveis\n",
    "\n",
    "\" Nomes que se referem a valores alocados em memória \"\n",
    "* Não podem começar por um número\n",
    "* Não podem ter nomes reservados (if, for, etc)\n",
    "* Posso ter acentos, não posso ter alguns caracteres especiais\n",
    "* Boas práticas: nomes significativos, não usar acentos, começar por letras minúsculas"
   ]
  },
  {
   "cell_type": "markdown",
   "id": "72e6f682",
   "metadata": {},
   "source": [
    "### Tipo - Numéricas"
   ]
  },
  {
   "cell_type": "code",
   "execution_count": 6,
   "id": "6995aecb",
   "metadata": {},
   "outputs": [
    {
     "name": "stdout",
     "output_type": "stream",
     "text": [
      "7.992000000000001\n"
     ]
    }
   ],
   "source": [
    "x = 15\n",
    "price = 9.99\n",
    "discount = 0.2\n",
    "result = price*(1- discount)\n",
    "print(result)"
   ]
  },
  {
   "cell_type": "markdown",
   "id": "fba45d3f",
   "metadata": {},
   "source": [
    "### Tipo - Strings"
   ]
  },
  {
   "cell_type": "code",
   "execution_count": 7,
   "id": "23c2f1ee",
   "metadata": {},
   "outputs": [
    {
     "name": "stdout",
     "output_type": "stream",
     "text": [
      "Joao\n",
      "JoaoJoao\n"
     ]
    }
   ],
   "source": [
    "name = \"Joao\"\n",
    "print(name)\n",
    "print(name*2)"
   ]
  },
  {
   "cell_type": "markdown",
   "id": "2bf71f53",
   "metadata": {},
   "source": [
    "### Manipulação de variáveis"
   ]
  },
  {
   "cell_type": "code",
   "execution_count": 12,
   "id": "eb449238",
   "metadata": {},
   "outputs": [],
   "source": [
    "a = 25\n",
    "b = a"
   ]
  },
  {
   "cell_type": "code",
   "execution_count": 13,
   "id": "2cbcdd42",
   "metadata": {},
   "outputs": [
    {
     "name": "stdout",
     "output_type": "stream",
     "text": [
      "25\n",
      "25\n"
     ]
    }
   ],
   "source": [
    "print(a)\n",
    "print(b)"
   ]
  },
  {
   "cell_type": "code",
   "execution_count": 14,
   "id": "a850ca99",
   "metadata": {},
   "outputs": [],
   "source": [
    "a = 17"
   ]
  },
  {
   "cell_type": "code",
   "execution_count": 15,
   "id": "5540731e",
   "metadata": {},
   "outputs": [
    {
     "name": "stdout",
     "output_type": "stream",
     "text": [
      "17\n",
      "25\n"
     ]
    }
   ],
   "source": [
    "print(a)\n",
    "print(b)"
   ]
  },
  {
   "cell_type": "markdown",
   "id": "7a4a5701",
   "metadata": {},
   "source": [
    "### Strings"
   ]
  },
  {
   "cell_type": "code",
   "execution_count": 23,
   "id": "30e32d5c",
   "metadata": {},
   "outputs": [
    {
     "name": "stdout",
     "output_type": "stream",
     "text": [
      "Hello, Bob\n"
     ]
    }
   ],
   "source": [
    "name = \"Bob\"\n",
    "greeting = \"Hello, Bob\"\n",
    "print(greeting)"
   ]
  },
  {
   "cell_type": "code",
   "execution_count": 24,
   "id": "1281fdc5",
   "metadata": {},
   "outputs": [
    {
     "name": "stdout",
     "output_type": "stream",
     "text": [
      "Hello, Bob\n"
     ]
    }
   ],
   "source": [
    "name = \"Rolf\"\n",
    "print(greeting)"
   ]
  },
  {
   "cell_type": "code",
   "execution_count": 25,
   "id": "02a2a721",
   "metadata": {},
   "outputs": [
    {
     "name": "stdout",
     "output_type": "stream",
     "text": [
      "Hello, Rolf\n"
     ]
    }
   ],
   "source": [
    "greeting = f\"Hello, {name}\"\n",
    "print(greeting)"
   ]
  },
  {
   "cell_type": "code",
   "execution_count": 27,
   "id": "65ec9d2f",
   "metadata": {},
   "outputs": [
    {
     "name": "stdout",
     "output_type": "stream",
     "text": [
      "Hello, Rolf\n",
      "Hello, Anne\n"
     ]
    }
   ],
   "source": [
    "name = \"Anne\"\n",
    "print(greeting)\n",
    "print(f\"Hello, {name}\")"
   ]
  },
  {
   "cell_type": "markdown",
   "id": "f37e0c0e",
   "metadata": {},
   "source": [
    "Usando format()"
   ]
  },
  {
   "cell_type": "code",
   "execution_count": 29,
   "id": "2390eb04",
   "metadata": {},
   "outputs": [
    {
     "name": "stdout",
     "output_type": "stream",
     "text": [
      "Hello, Gabriela\n"
     ]
    }
   ],
   "source": [
    "greeting = \"Hello, {}\"\n",
    "with_name = greeting.format(\"Gabriela\")\n",
    "print(with_name)"
   ]
  },
  {
   "cell_type": "code",
   "execution_count": 30,
   "id": "2b2657b1",
   "metadata": {},
   "outputs": [
    {
     "name": "stdout",
     "output_type": "stream",
     "text": [
      "Hello, Pedro. Today is Wednesday.\n"
     ]
    }
   ],
   "source": [
    "longer_phrase = \"Hello, {}. Today is {}.\"\n",
    "formatted = longer_phrase.format(\"Pedro\", \"Wednesday\")\n",
    "print(formatted)"
   ]
  },
  {
   "cell_type": "markdown",
   "id": "23d05778",
   "metadata": {},
   "source": [
    "## Entrada de dados"
   ]
  },
  {
   "cell_type": "code",
   "execution_count": 5,
   "id": "df55f1dd",
   "metadata": {},
   "outputs": [
    {
     "name": "stdout",
     "output_type": "stream",
     "text": [
      "Digite o seu nome:Gabriela\n",
      "Gabriela\n"
     ]
    }
   ],
   "source": [
    "name = input(\"Digite o seu nome:\")\n",
    "print(name)"
   ]
  },
  {
   "cell_type": "code",
   "execution_count": 8,
   "id": "ab6cf68a",
   "metadata": {},
   "outputs": [
    {
     "name": "stdout",
     "output_type": "stream",
     "text": [
      "Qual a área da sua casa (em metros quadrados)?100\n",
      "1080.0 pés quadrados equivalem a 100 metros quadrados\n"
     ]
    }
   ],
   "source": [
    "size_input = input(\"Qual a área da sua casa (em metros quadrados)?\")\n",
    "square_meters = int(size_input)\n",
    "square_feet = 10.8*square_meters\n",
    "print(f\"{square_feet} pés quadrados equivalem a {square_meters} metros quadrados\")"
   ]
  },
  {
   "cell_type": "markdown",
   "id": "26aab37f",
   "metadata": {},
   "source": [
    "## Listas, tuplas e conjuntos"
   ]
  },
  {
   "cell_type": "code",
   "execution_count": 9,
   "id": "3eb3d40e",
   "metadata": {},
   "outputs": [],
   "source": [
    "l = [\"Bob\", \"Rolf\", \"Anne\"]\n",
    "t = (\"Bob\", \"Rolf\", \"Anne\")\n",
    "s = {\"Bob\", \"Rolf\", \"Anne\"}"
   ]
  },
  {
   "cell_type": "code",
   "execution_count": 10,
   "id": "6c83c6dc",
   "metadata": {},
   "outputs": [
    {
     "data": {
      "text/plain": [
       "['Bob', 'Rolf', 'Anne']"
      ]
     },
     "execution_count": 10,
     "metadata": {},
     "output_type": "execute_result"
    }
   ],
   "source": [
    "l"
   ]
  },
  {
   "cell_type": "code",
   "execution_count": 11,
   "id": "805f2d07",
   "metadata": {},
   "outputs": [
    {
     "data": {
      "text/plain": [
       "('Bob', 'Rolf', 'Anne')"
      ]
     },
     "execution_count": 11,
     "metadata": {},
     "output_type": "execute_result"
    }
   ],
   "source": [
    "t"
   ]
  },
  {
   "cell_type": "code",
   "execution_count": 12,
   "id": "91c65378",
   "metadata": {},
   "outputs": [
    {
     "data": {
      "text/plain": [
       "{'Anne', 'Bob', 'Rolf'}"
      ]
     },
     "execution_count": 12,
     "metadata": {},
     "output_type": "execute_result"
    }
   ],
   "source": [
    "s"
   ]
  },
  {
   "cell_type": "code",
   "execution_count": 13,
   "id": "ce39ee0c",
   "metadata": {},
   "outputs": [
    {
     "name": "stdout",
     "output_type": "stream",
     "text": [
      "Bob\n",
      "Bob\n"
     ]
    }
   ],
   "source": [
    "# acessar um elemento na lista\n",
    "print(l[0])\n",
    "print(t[0])"
   ]
  },
  {
   "cell_type": "code",
   "execution_count": 14,
   "id": "d79b4b88",
   "metadata": {},
   "outputs": [
    {
     "ename": "TypeError",
     "evalue": "'set' object is not subscriptable",
     "output_type": "error",
     "traceback": [
      "\u001b[1;31m---------------------------------------------------------------------------\u001b[0m",
      "\u001b[1;31mTypeError\u001b[0m                                 Traceback (most recent call last)",
      "\u001b[1;32m<ipython-input-14-5605e14cbe49>\u001b[0m in \u001b[0;36m<module>\u001b[1;34m\u001b[0m\n\u001b[1;32m----> 1\u001b[1;33m \u001b[0mprint\u001b[0m\u001b[1;33m(\u001b[0m\u001b[0ms\u001b[0m\u001b[1;33m[\u001b[0m\u001b[1;36m0\u001b[0m\u001b[1;33m]\u001b[0m\u001b[1;33m)\u001b[0m\u001b[1;33m\u001b[0m\u001b[1;33m\u001b[0m\u001b[0m\n\u001b[0m",
      "\u001b[1;31mTypeError\u001b[0m: 'set' object is not subscriptable"
     ]
    }
   ],
   "source": [
    "print(s[0])"
   ]
  },
  {
   "cell_type": "code",
   "execution_count": 15,
   "id": "9086a797",
   "metadata": {},
   "outputs": [],
   "source": [
    "# modificar elementos em uma lista\n",
    "l[0] = \"Smith\""
   ]
  },
  {
   "cell_type": "code",
   "execution_count": 16,
   "id": "2a4494f7",
   "metadata": {},
   "outputs": [
    {
     "ename": "TypeError",
     "evalue": "'tuple' object does not support item assignment",
     "output_type": "error",
     "traceback": [
      "\u001b[1;31m---------------------------------------------------------------------------\u001b[0m",
      "\u001b[1;31mTypeError\u001b[0m                                 Traceback (most recent call last)",
      "\u001b[1;32m<ipython-input-16-a45eb32dc33d>\u001b[0m in \u001b[0;36m<module>\u001b[1;34m\u001b[0m\n\u001b[0;32m      1\u001b[0m \u001b[1;31m# tuplas são imutaveis\u001b[0m\u001b[1;33m\u001b[0m\u001b[1;33m\u001b[0m\u001b[1;33m\u001b[0m\u001b[0m\n\u001b[1;32m----> 2\u001b[1;33m \u001b[0mt\u001b[0m\u001b[1;33m[\u001b[0m\u001b[1;36m0\u001b[0m\u001b[1;33m]\u001b[0m \u001b[1;33m=\u001b[0m \u001b[1;34m\"Smith\"\u001b[0m\u001b[1;33m\u001b[0m\u001b[1;33m\u001b[0m\u001b[0m\n\u001b[0m",
      "\u001b[1;31mTypeError\u001b[0m: 'tuple' object does not support item assignment"
     ]
    }
   ],
   "source": [
    "# tuplas são imutaveis\n",
    "t[0] = \"Smith\""
   ]
  },
  {
   "cell_type": "code",
   "execution_count": 17,
   "id": "3c075bbc",
   "metadata": {},
   "outputs": [
    {
     "name": "stdout",
     "output_type": "stream",
     "text": [
      "('Bob', 'Rolf', 'Anne')\n",
      "['Smith', 'Rolf', 'Anne']\n"
     ]
    }
   ],
   "source": [
    "print(t)\n",
    "print(l)"
   ]
  },
  {
   "cell_type": "code",
   "execution_count": 18,
   "id": "52c79bf3",
   "metadata": {},
   "outputs": [
    {
     "name": "stdout",
     "output_type": "stream",
     "text": [
      "['Smith', 'Rolf', 'Anne', 'Jen']\n"
     ]
    }
   ],
   "source": [
    "# adicionar elementos a uma lista\n",
    "\n",
    "l.append(\"Jen\")\n",
    "print(l)"
   ]
  },
  {
   "cell_type": "code",
   "execution_count": 19,
   "id": "c29fed33",
   "metadata": {},
   "outputs": [],
   "source": [
    "# Não consigo adicionar elementos em uma tupla, pois são imutáveis"
   ]
  },
  {
   "cell_type": "code",
   "execution_count": 20,
   "id": "e55f0acb",
   "metadata": {},
   "outputs": [
    {
     "name": "stdout",
     "output_type": "stream",
     "text": [
      "{'Bob', 'Jen', 'Rolf', 'Anne'}\n"
     ]
    }
   ],
   "source": [
    "# adicionar elementos a um conjunto\n",
    "s.add(\"Jen\")\n",
    "print(s)"
   ]
  },
  {
   "cell_type": "code",
   "execution_count": 21,
   "id": "d7dd3730",
   "metadata": {},
   "outputs": [
    {
     "name": "stdout",
     "output_type": "stream",
     "text": [
      "['Smith', 'Rolf', 'Anne', 'Jen', 'Jen']\n"
     ]
    }
   ],
   "source": [
    "# adicionar elementos repetidos\n",
    "l.append(\"Jen\")\n",
    "print(l)"
   ]
  },
  {
   "cell_type": "code",
   "execution_count": 23,
   "id": "d7d0f177",
   "metadata": {},
   "outputs": [
    {
     "name": "stdout",
     "output_type": "stream",
     "text": [
      "{'Bob', 'Jen', 'Rolf', 'Anne'}\n"
     ]
    }
   ],
   "source": [
    "# não consigo adicionar elementos repetidos em um conjunto\n",
    "s.add(\"Jen\")\n",
    "print(s)"
   ]
  },
  {
   "cell_type": "markdown",
   "id": "12a03339",
   "metadata": {},
   "source": [
    "* Tuplas são imutáveis, não conseguimos alterar valores  ou adicionar novos elementos\n",
    "* Conjuntos não permitem adição de elementos repetidos\n",
    "* Conjuntos não são acessíveis por índice"
   ]
  },
  {
   "cell_type": "markdown",
   "id": "6be59608",
   "metadata": {},
   "source": [
    "#### Operações com conjuntos"
   ]
  },
  {
   "cell_type": "code",
   "execution_count": 26,
   "id": "f8ca2168",
   "metadata": {},
   "outputs": [
    {
     "name": "stdout",
     "output_type": "stream",
     "text": [
      "{'Rolf'}\n"
     ]
    }
   ],
   "source": [
    "# Diferença entre dois conjuntos\n",
    "\n",
    "friends = {\"Bob\", \"Rolf\", \"Anne\"}\n",
    "abroad = {\"Bob\", \"Anne\"}\n",
    "\n",
    "# Se existem 3 amigos e 2 emigraram (abroad), isso significa que um é local\n",
    "# Como calcular quais nomes estão em friends e não estão em abroad?\n",
    "\n",
    "local_friends = friends - abroad\n",
    "print(local_friends)"
   ]
  },
  {
   "cell_type": "code",
   "execution_count": 27,
   "id": "8d38feb7",
   "metadata": {},
   "outputs": [
    {
     "name": "stdout",
     "output_type": "stream",
     "text": [
      "{'Rolf'}\n"
     ]
    }
   ],
   "source": [
    "local_friends = friends.difference(abroad)\n",
    "print(local_friends)"
   ]
  },
  {
   "cell_type": "code",
   "execution_count": 29,
   "id": "540b94dc",
   "metadata": {},
   "outputs": [
    {
     "data": {
      "text/plain": [
       "set()"
      ]
     },
     "execution_count": 29,
     "metadata": {},
     "output_type": "execute_result"
    }
   ],
   "source": [
    "abroad - friends"
   ]
  },
  {
   "cell_type": "code",
   "execution_count": 30,
   "id": "72bdfed8",
   "metadata": {},
   "outputs": [
    {
     "data": {
      "text/plain": [
       "{'Anne', 'Bob', 'Rolf'}"
      ]
     },
     "execution_count": 30,
     "metadata": {},
     "output_type": "execute_result"
    }
   ],
   "source": [
    "# união\n",
    "local = {\"Rolf\"}\n",
    "abroad = {\"Bob\", \"Anne\"}\n",
    "\n",
    "local.union(abroad)"
   ]
  },
  {
   "cell_type": "code",
   "execution_count": 31,
   "id": "e45b6090",
   "metadata": {},
   "outputs": [
    {
     "data": {
      "text/plain": [
       "{'Anne', 'Bob'}"
      ]
     },
     "execution_count": 31,
     "metadata": {},
     "output_type": "execute_result"
    }
   ],
   "source": [
    "friends = {\"Bob\", \"Rolf\", \"Anne\"}\n",
    "abroad = {\"Bob\", \"Anne\"}\n",
    "friends.intersection(abroad)"
   ]
  },
  {
   "cell_type": "markdown",
   "id": "21483178",
   "metadata": {},
   "source": [
    "## Booleanos"
   ]
  },
  {
   "cell_type": "code",
   "execution_count": 33,
   "id": "f0f7f206",
   "metadata": {},
   "outputs": [
    {
     "name": "stdout",
     "output_type": "stream",
     "text": [
      "True\n",
      "False\n",
      "False\n"
     ]
    }
   ],
   "source": [
    "# Comparações: ==, !=, >, <, >=, <=\n",
    "print(5 == 5) # True\n",
    "print(5 > 5) # False\n",
    "print(10 != 10) # False\n"
   ]
  },
  {
   "cell_type": "code",
   "execution_count": 35,
   "id": "bd67bb4e",
   "metadata": {},
   "outputs": [
    {
     "name": "stdout",
     "output_type": "stream",
     "text": [
      "True\n",
      "False\n"
     ]
    }
   ],
   "source": [
    "friends = [\"Rolf\", \"Bob\"]\n",
    "abroad = [\"Rolf\", \"Bob\"]\n",
    "\n",
    "print(friends == abroad) # True\n",
    "print(friends is abroad) # False"
   ]
  },
  {
   "cell_type": "markdown",
   "id": "4ca54bcc",
   "metadata": {},
   "source": [
    "## Condicionais"
   ]
  },
  {
   "cell_type": "code",
   "execution_count": 38,
   "id": "77c2e3dd",
   "metadata": {},
   "outputs": [
    {
     "name": "stdout",
     "output_type": "stream",
     "text": [
      "Que dia da semana é hoje?segunda\n",
      "Continue a nadar!\n"
     ]
    }
   ],
   "source": [
    "day_of_week = input(\"Que dia da semana é hoje?\")\n",
    "\n",
    "if day_of_week == \"Segunda\":\n",
    "    print(\"Tenha uma ótima semana!\")\n",
    "elif day_of_week == \"Sexta\":\n",
    "    print(\"Até mais!\")\n",
    "else:\n",
    "    print(\"Continue a nadar!\")"
   ]
  },
  {
   "cell_type": "code",
   "execution_count": 41,
   "id": "20916d53",
   "metadata": {},
   "outputs": [
    {
     "name": "stdout",
     "output_type": "stream",
     "text": [
      "Que dia da semana é hoje?casa\n",
      "Continue a nadar!\n"
     ]
    }
   ],
   "source": [
    "day_of_week = input(\"Que dia da semana é hoje?\").lower()\n",
    "\n",
    "if day_of_week == \"segunda\":\n",
    "    print(\"Tenha uma ótima semana!\")\n",
    "elif day_of_week == \"sexta\":\n",
    "    print(\"Até mais!\")\n",
    "else:\n",
    "    print(\"Continue a nadar!\")"
   ]
  },
  {
   "cell_type": "markdown",
   "id": "27212585",
   "metadata": {},
   "source": [
    "Keyword: 'in'"
   ]
  },
  {
   "cell_type": "code",
   "execution_count": 43,
   "id": "0122c501",
   "metadata": {},
   "outputs": [
    {
     "name": "stdout",
     "output_type": "stream",
     "text": [
      "Que dia da semana é hoje?casa\n",
      "Não informou um dia da semana\n"
     ]
    }
   ],
   "source": [
    "day_of_week = input(\"Que dia da semana é hoje?\").lower()\n",
    "days_of_week = [\"segunda\", \"terça\", \"quarta\", \"quinta\", \"sexta\"]\n",
    "\n",
    "if day_of_week in days_of_week:\n",
    "    if day_of_week == \"segunda\":\n",
    "        print(\"Tenha uma ótima semana!\")\n",
    "    elif day_of_week == \"sexta\":\n",
    "        print(\"Até mais!\")\n",
    "    else:\n",
    "        print(\"Continue a nadar!\")\n",
    "else:\n",
    "    print(\"Não informou um dia da semana\")"
   ]
  },
  {
   "cell_type": "markdown",
   "id": "288b771f",
   "metadata": {},
   "source": [
    "## Laços\n",
    "\n",
    "### While"
   ]
  },
  {
   "cell_type": "code",
   "execution_count": 45,
   "id": "23655901",
   "metadata": {},
   "outputs": [
    {
     "name": "stdout",
     "output_type": "stream",
     "text": [
      "Você quer jogar? (s/n)s\n",
      "Advinhe o número:1\n",
      "Você errou\n",
      "Você quer jogar? (s/n)s\n",
      "Advinhe o número:2\n",
      "Você errou\n",
      "Você quer jogar? (s/n)s\n",
      "Advinhe o número:6\n",
      "Você errou por 1.\n",
      "Você quer jogar? (s/n)s\n",
      "Advinhe o número:7\n",
      "Você acertou\n",
      "Você quer jogar? (s/n)n\n"
     ]
    }
   ],
   "source": [
    "number = 7\n",
    "play = input(\"Você quer jogar? (s/n)\")\n",
    "\n",
    "while play != 'n':\n",
    "    user_number = int(input(\"Advinhe o número:\"))\n",
    "    if user_number == number:\n",
    "        print(\"Você acertou\")\n",
    "    elif abs(number - user_number) == 1:\n",
    "        print(\"Você errou por 1.\")\n",
    "    else:\n",
    "        print(\"Você errou\")\n",
    "        \n",
    "    play = input(\"Você quer jogar? (s/n)\")\n"
   ]
  },
  {
   "cell_type": "code",
   "execution_count": 46,
   "id": "99d43494",
   "metadata": {},
   "outputs": [
    {
     "name": "stdout",
     "output_type": "stream",
     "text": [
      "Você quer jogar? (s/n)s\n",
      "Advinhe o número:1\n",
      "Você errou\n",
      "Você quer jogar? (s/n)s\n",
      "Advinhe o número:6\n",
      "Você errou por 1.\n",
      "Você quer jogar? (s/n)n\n"
     ]
    }
   ],
   "source": [
    "# keyword: break\n",
    "number = 7\n",
    "\n",
    "while True:\n",
    "    play = input(\"Você quer jogar? (s/n)\")\n",
    "    if play == 'n':\n",
    "        break\n",
    "    user_number = int(input(\"Advinhe o número:\"))\n",
    "    if user_number == number:\n",
    "        print(\"Você acertou\")\n",
    "    elif abs(number - user_number) == 1:\n",
    "        print(\"Você errou por 1.\")\n",
    "    else:\n",
    "        print(\"Você errou\")\n",
    "        "
   ]
  },
  {
   "cell_type": "markdown",
   "id": "1144fb7d",
   "metadata": {},
   "source": [
    "### For"
   ]
  },
  {
   "cell_type": "code",
   "execution_count": 47,
   "id": "e313de48",
   "metadata": {},
   "outputs": [
    {
     "name": "stdout",
     "output_type": "stream",
     "text": [
      "Rolf é meu amigo\n",
      "Jen é meu amigo\n",
      "Bob é meu amigo\n",
      "Anne é meu amigo\n"
     ]
    }
   ],
   "source": [
    "friends = [\"Rolf\", \"Jen\", \"Bob\", \"Anne\"]\n",
    "\n",
    "for friend in friends:\n",
    "    print(f\"{friend} é meu amigo\")"
   ]
  },
  {
   "cell_type": "code",
   "execution_count": 48,
   "id": "44fc4e1e",
   "metadata": {},
   "outputs": [
    {
     "name": "stdout",
     "output_type": "stream",
     "text": [
      "80.0\n"
     ]
    }
   ],
   "source": [
    "grades = [35, 67, 98, 100, 100]\n",
    "\n",
    "total = 0\n",
    "amount = len(grades)\n",
    "\n",
    "for grade in grades:\n",
    "    total += grade\n",
    "\n",
    "print(total/amount)"
   ]
  },
  {
   "cell_type": "code",
   "execution_count": 53,
   "id": "dce54bee",
   "metadata": {},
   "outputs": [
    {
     "name": "stdout",
     "output_type": "stream",
     "text": [
      "80.0\n"
     ]
    }
   ],
   "source": [
    "grades = [35, 67, 98, 100, 100]\n",
    "\n",
    "total = sum(grades)\n",
    "amount = len(grades)\n",
    "\n",
    "print(total/amount)"
   ]
  },
  {
   "cell_type": "markdown",
   "id": "86be10ee",
   "metadata": {},
   "source": [
    "### List Comprehension"
   ]
  },
  {
   "cell_type": "code",
   "execution_count": 55,
   "id": "adfc355d",
   "metadata": {},
   "outputs": [],
   "source": [
    "numbers = [1, 3, 5]\n",
    "squares = [x**2 for x in numbers]"
   ]
  },
  {
   "cell_type": "code",
   "execution_count": 58,
   "id": "041b8ca5",
   "metadata": {},
   "outputs": [
    {
     "name": "stdout",
     "output_type": "stream",
     "text": [
      "['Sam', 'Samantha', 'Sarah']\n"
     ]
    }
   ],
   "source": [
    "friends = [\"Rolf\", \"Sam\", \"Samantha\", \"Sarah\", \"Jen\"]\n",
    "starts_s = []\n",
    "\n",
    "for friend in friends:\n",
    "    if friend.startswith(\"S\"):\n",
    "        starts_s.append(friend)\n",
    "print(starts_s)"
   ]
  },
  {
   "cell_type": "code",
   "execution_count": 60,
   "id": "e5b2824d",
   "metadata": {},
   "outputs": [],
   "source": [
    "friends = [\"Rolf\", \"Sam\", \"Samantha\", \"Sarah\", \"Jen\"]\n",
    "starts_s = [friend for friend in friends if friend.startswith(\"S\")]"
   ]
  },
  {
   "cell_type": "code",
   "execution_count": 61,
   "id": "ed958cf7",
   "metadata": {},
   "outputs": [
    {
     "data": {
      "text/plain": [
       "['Sam', 'Samantha', 'Sarah']"
      ]
     },
     "execution_count": 61,
     "metadata": {},
     "output_type": "execute_result"
    }
   ],
   "source": [
    "starts_s"
   ]
  },
  {
   "cell_type": "markdown",
   "id": "da8b2b79",
   "metadata": {},
   "source": [
    "## Dicionários"
   ]
  },
  {
   "cell_type": "code",
   "execution_count": 62,
   "id": "538d6886",
   "metadata": {},
   "outputs": [
    {
     "data": {
      "text/plain": [
       "{'Rolf': 24, 'Adam': 30, 'Anne': 27}"
      ]
     },
     "execution_count": 62,
     "metadata": {},
     "output_type": "execute_result"
    }
   ],
   "source": [
    "friend_ages = {\"Rolf\": 24, \"Adam\": 30, \"Anne\": 27}\n",
    "friend_ages"
   ]
  },
  {
   "cell_type": "code",
   "execution_count": 63,
   "id": "157c9771",
   "metadata": {},
   "outputs": [
    {
     "data": {
      "text/plain": [
       "{'Rolf': 24, 'Adam': 30, 'Anne': 27, 'Bob': 20}"
      ]
     },
     "execution_count": 63,
     "metadata": {},
     "output_type": "execute_result"
    }
   ],
   "source": [
    "friend_ages[\"Bob\"] = 20\n",
    "friend_ages"
   ]
  },
  {
   "cell_type": "code",
   "execution_count": 64,
   "id": "6fd234f7",
   "metadata": {},
   "outputs": [
    {
     "data": {
      "text/plain": [
       "30"
      ]
     },
     "execution_count": 64,
     "metadata": {},
     "output_type": "execute_result"
    }
   ],
   "source": [
    "friend_ages[\"Adam\"]"
   ]
  },
  {
   "cell_type": "code",
   "execution_count": 65,
   "id": "50962a4e",
   "metadata": {},
   "outputs": [
    {
     "name": "stdout",
     "output_type": "stream",
     "text": [
      "[{'name': 'Rolf Smith', 'age': 24}, {'name': 'Adam Wool', 'age': 30}, {'name': 'Anne Pun', 'age': 27}]\n"
     ]
    }
   ],
   "source": [
    "# lista de dicionários\n",
    "\n",
    "friends = [\n",
    "    {\"name\": \"Rolf Smith\", \"age\": 24},\n",
    "    {\"name\": \"Adam Wool\", \"age\": 30},\n",
    "    {\"name\": \"Anne Pun\", \"age\": 27}\n",
    "]\n",
    "print(friends)"
   ]
  },
  {
   "cell_type": "code",
   "execution_count": 67,
   "id": "f8c1b188",
   "metadata": {},
   "outputs": [
    {
     "name": "stdout",
     "output_type": "stream",
     "text": [
      "Rolf: 24\n",
      "Adam: 30\n",
      "Anne: 27\n"
     ]
    }
   ],
   "source": [
    "friend_ages = {\"Rolf\": 24, \"Adam\": 30, \"Anne\": 27}\n",
    "\n",
    "for friend in friend_ages:\n",
    "    print(f\"{friend}: {friend_ages[friend]}\")"
   ]
  },
  {
   "cell_type": "code",
   "execution_count": 69,
   "id": "5226cedf",
   "metadata": {},
   "outputs": [
    {
     "name": "stdout",
     "output_type": "stream",
     "text": [
      "Rolf: 24\n",
      "Adam: 30\n",
      "Anne: 27\n"
     ]
    }
   ],
   "source": [
    "for friend, ages in friend_ages.items():\n",
    "    print(f\"{friend}: {ages}\")"
   ]
  },
  {
   "cell_type": "markdown",
   "id": "222ed2c0",
   "metadata": {},
   "source": [
    "## \"Desestruturando\" variáveis"
   ]
  },
  {
   "cell_type": "code",
   "execution_count": 75,
   "id": "5dd92153",
   "metadata": {},
   "outputs": [],
   "source": [
    "x, y = 5, 11 # x, y = (5, 11)"
   ]
  },
  {
   "cell_type": "code",
   "execution_count": 83,
   "id": "29430e13",
   "metadata": {},
   "outputs": [
    {
     "name": "stdout",
     "output_type": "stream",
     "text": [
      "Rolf:96\n",
      "Bob:80\n",
      "Anne:100\n"
     ]
    }
   ],
   "source": [
    "student_attendance = {\"Rolf\": 96, \"Bob\": 80, \"Anne\": 100}\n",
    "for student, attendance in student_attendance.items():\n",
    "    print(f\"{student}:{attendance}\")"
   ]
  },
  {
   "cell_type": "code",
   "execution_count": 87,
   "id": "1a42dd85",
   "metadata": {},
   "outputs": [
    {
     "name": "stdout",
     "output_type": "stream",
     "text": [
      "Name: Rolf Smith, Age: 24, Attendance:96\n",
      "Name: Adam Wool, Age: 30, Attendance:80\n",
      "Name: Anne Pun, Age: 27, Attendance:100\n"
     ]
    }
   ],
   "source": [
    "student_attendance = [\n",
    "    {\"name\": \"Rolf Smith\", \"age\": 24, \"attendance\": 96},\n",
    "    {\"name\": \"Adam Wool\", \"age\": 30, \"attendance\": 80},\n",
    "    {\"name\": \"Anne Pun\", \"age\": 27, \"attendance\": 100}\n",
    "]\n",
    "\n",
    "for student in student_attendance:\n",
    "    print(f\"Name: {student['name']}, Age: {student['age']}, Attendance:{student['attendance']}\")\n"
   ]
  },
  {
   "cell_type": "code",
   "execution_count": 89,
   "id": "d38a8345",
   "metadata": {},
   "outputs": [
    {
     "name": "stdout",
     "output_type": "stream",
     "text": [
      "Name: Rolf Smith, Age: 24, Attendance:96\n",
      "Name: Adam Wool, Age: 30, Attendance:80\n",
      "Name: Anne Pun, Age: 27, Attendance:100\n"
     ]
    }
   ],
   "source": [
    "student_attendance = [\n",
    "    (\"Rolf Smith\", 24, 96),\n",
    "    (\"Adam Wool\", 30, 80),\n",
    "    (\"Anne Pun\", 27, 100)\n",
    "]\n",
    "\n",
    "for student, age, attendance in student_attendance:\n",
    "    print(f\"Name: {student}, Age: {age}, Attendance:{attendance}\")\n"
   ]
  },
  {
   "cell_type": "code",
   "execution_count": 90,
   "id": "f8e2c014",
   "metadata": {},
   "outputs": [],
   "source": [
    "# convenção para ignorar variávies\n",
    "person = (\"Bob\", 42, \"Mechanic\")\n",
    "name, _, profession = person"
   ]
  },
  {
   "cell_type": "code",
   "execution_count": 94,
   "id": "b9331faf",
   "metadata": {},
   "outputs": [
    {
     "name": "stdout",
     "output_type": "stream",
     "text": [
      "1\n",
      "[2, 3, 4, 5]\n"
     ]
    }
   ],
   "source": [
    "head, *tail = [1, 2, 3, 4, 5]\n",
    "print(head)\n",
    "print(tail)"
   ]
  },
  {
   "cell_type": "code",
   "execution_count": 95,
   "id": "6253468e",
   "metadata": {},
   "outputs": [
    {
     "name": "stdout",
     "output_type": "stream",
     "text": [
      "[1, 2, 3, 4]\n",
      "5\n"
     ]
    }
   ],
   "source": [
    "*head, tail = [1, 2, 3, 4, 5]\n",
    "print(head)\n",
    "print(tail)"
   ]
  },
  {
   "cell_type": "code",
   "execution_count": null,
   "id": "59906f61",
   "metadata": {},
   "outputs": [],
   "source": []
  }
 ],
 "metadata": {
  "kernelspec": {
   "display_name": "Python 3",
   "language": "python",
   "name": "python3"
  },
  "language_info": {
   "codemirror_mode": {
    "name": "ipython",
    "version": 3
   },
   "file_extension": ".py",
   "mimetype": "text/x-python",
   "name": "python",
   "nbconvert_exporter": "python",
   "pygments_lexer": "ipython3",
   "version": "3.8.8"
  }
 },
 "nbformat": 4,
 "nbformat_minor": 5
}
