{
 "cells": [
  {
   "cell_type": "markdown",
   "id": "9661f5fc",
   "metadata": {},
   "source": [
    "## Funções"
   ]
  },
  {
   "cell_type": "code",
   "execution_count": 1,
   "id": "f1952125",
   "metadata": {},
   "outputs": [],
   "source": [
    "def hello():\n",
    "    print(\"Hello!\")"
   ]
  },
  {
   "cell_type": "code",
   "execution_count": 2,
   "id": "08640c9e",
   "metadata": {},
   "outputs": [
    {
     "name": "stdout",
     "output_type": "stream",
     "text": [
      "Hello!\n"
     ]
    }
   ],
   "source": [
    "hello()"
   ]
  },
  {
   "cell_type": "code",
   "execution_count": 3,
   "id": "a2850293",
   "metadata": {},
   "outputs": [],
   "source": [
    "def user_age_in_seconds():\n",
    "    user_age = int(input(\"Digite a sua idade:\"))\n",
    "    age_seconds = user_age*365*24*60*60\n",
    "    print(f\"Sua idade em segundos é {age_seconds}.\")"
   ]
  },
  {
   "cell_type": "code",
   "execution_count": 4,
   "id": "7991846b",
   "metadata": {},
   "outputs": [
    {
     "name": "stdout",
     "output_type": "stream",
     "text": [
      "Digite a sua idade:10\n",
      "Sua idade em segundos é 315360000.\n"
     ]
    }
   ],
   "source": [
    "user_age_in_seconds()"
   ]
  },
  {
   "cell_type": "markdown",
   "id": "974c59e9",
   "metadata": {},
   "source": [
    "### palavras reservadas\n",
    "```Python\n",
    "def print():\n",
    "    print(\"Hello, world\") # erro pois a função print é built-in\n",
    "```"
   ]
  },
  {
   "cell_type": "code",
   "execution_count": 5,
   "id": "19b28fb2",
   "metadata": {},
   "outputs": [],
   "source": [
    "# cuidado: nomes de variáveis dentro e fora da função (âmbito/escopo)\n",
    "\n",
    "friends = [\"Rolf\", \"Bob\"]\n",
    "\n",
    "def add_friend():\n",
    "    friend_name = input(\"Digite o nome do seu amigo: \")\n",
    "    friends = friends + [friend_name]"
   ]
  },
  {
   "cell_type": "code",
   "execution_count": 6,
   "id": "8755aa38",
   "metadata": {},
   "outputs": [
    {
     "name": "stdout",
     "output_type": "stream",
     "text": [
      "Digite o nome do seu amigo: pedro\n"
     ]
    },
    {
     "ename": "UnboundLocalError",
     "evalue": "local variable 'friends' referenced before assignment",
     "output_type": "error",
     "traceback": [
      "\u001b[1;31m---------------------------------------------------------------------------\u001b[0m",
      "\u001b[1;31mUnboundLocalError\u001b[0m                         Traceback (most recent call last)",
      "\u001b[1;32m<ipython-input-6-bbfd091fceb5>\u001b[0m in \u001b[0;36m<module>\u001b[1;34m\u001b[0m\n\u001b[1;32m----> 1\u001b[1;33m \u001b[0madd_friend\u001b[0m\u001b[1;33m(\u001b[0m\u001b[1;33m)\u001b[0m\u001b[1;33m\u001b[0m\u001b[1;33m\u001b[0m\u001b[0m\n\u001b[0m\u001b[0;32m      2\u001b[0m \u001b[0mprint\u001b[0m\u001b[1;33m(\u001b[0m\u001b[0mfriends\u001b[0m\u001b[1;33m)\u001b[0m\u001b[1;33m\u001b[0m\u001b[1;33m\u001b[0m\u001b[0m\n",
      "\u001b[1;32m<ipython-input-5-67ece9cdf733>\u001b[0m in \u001b[0;36madd_friend\u001b[1;34m()\u001b[0m\n\u001b[0;32m      5\u001b[0m \u001b[1;32mdef\u001b[0m \u001b[0madd_friend\u001b[0m\u001b[1;33m(\u001b[0m\u001b[1;33m)\u001b[0m\u001b[1;33m:\u001b[0m\u001b[1;33m\u001b[0m\u001b[1;33m\u001b[0m\u001b[0m\n\u001b[0;32m      6\u001b[0m     \u001b[0mfriend_name\u001b[0m \u001b[1;33m=\u001b[0m \u001b[0minput\u001b[0m\u001b[1;33m(\u001b[0m\u001b[1;34m\"Digite o nome do seu amigo: \"\u001b[0m\u001b[1;33m)\u001b[0m\u001b[1;33m\u001b[0m\u001b[1;33m\u001b[0m\u001b[0m\n\u001b[1;32m----> 7\u001b[1;33m     \u001b[0mfriends\u001b[0m \u001b[1;33m=\u001b[0m \u001b[0mfriends\u001b[0m \u001b[1;33m+\u001b[0m \u001b[1;33m[\u001b[0m\u001b[0mfriend_name\u001b[0m\u001b[1;33m]\u001b[0m\u001b[1;33m\u001b[0m\u001b[1;33m\u001b[0m\u001b[0m\n\u001b[0m",
      "\u001b[1;31mUnboundLocalError\u001b[0m: local variable 'friends' referenced before assignment"
     ]
    }
   ],
   "source": [
    "add_friend()\n",
    "print(friends)"
   ]
  },
  {
   "cell_type": "code",
   "execution_count": 7,
   "id": "06b0929f",
   "metadata": {},
   "outputs": [],
   "source": [
    "# cuidado: nomes de variáveis dentro e fora da função (âmbito/escopo)\n",
    "\n",
    "friends = [\"Rolf\", \"Bob\"]\n",
    "\n",
    "def add_friend():\n",
    "    friends_list = [\"Ted\"]\n",
    "    friend_name = input(\"Digite o nome do seu amigo: \")\n",
    "    friends_list = friends_list + [friend_name]\n",
    "    print(friends_list)"
   ]
  },
  {
   "cell_type": "code",
   "execution_count": 8,
   "id": "f0eaa3ef",
   "metadata": {},
   "outputs": [
    {
     "name": "stdout",
     "output_type": "stream",
     "text": [
      "Digite o nome do seu amigo: pedro\n",
      "['Ted', 'pedro']\n"
     ]
    }
   ],
   "source": [
    "add_friend()"
   ]
  },
  {
   "cell_type": "code",
   "execution_count": 9,
   "id": "b0b44a4d",
   "metadata": {},
   "outputs": [
    {
     "ename": "NameError",
     "evalue": "name 'friends_list' is not defined",
     "output_type": "error",
     "traceback": [
      "\u001b[1;31m---------------------------------------------------------------------------\u001b[0m",
      "\u001b[1;31mNameError\u001b[0m                                 Traceback (most recent call last)",
      "\u001b[1;32m<ipython-input-9-a40f75adb5c5>\u001b[0m in \u001b[0;36m<module>\u001b[1;34m\u001b[0m\n\u001b[1;32m----> 1\u001b[1;33m \u001b[0mfriends_list\u001b[0m\u001b[1;33m\u001b[0m\u001b[1;33m\u001b[0m\u001b[0m\n\u001b[0m",
      "\u001b[1;31mNameError\u001b[0m: name 'friends_list' is not defined"
     ]
    }
   ],
   "source": [
    "friends_list"
   ]
  },
  {
   "cell_type": "code",
   "execution_count": 10,
   "id": "4a37ea33",
   "metadata": {},
   "outputs": [
    {
     "ename": "NameError",
     "evalue": "name 'say_hello' is not defined",
     "output_type": "error",
     "traceback": [
      "\u001b[1;31m---------------------------------------------------------------------------\u001b[0m",
      "\u001b[1;31mNameError\u001b[0m                                 Traceback (most recent call last)",
      "\u001b[1;32m<ipython-input-10-1649b49abaa8>\u001b[0m in \u001b[0;36m<module>\u001b[1;34m\u001b[0m\n\u001b[0;32m      1\u001b[0m \u001b[1;31m# é preciso definir a função antes de chamá-la\u001b[0m\u001b[1;33m\u001b[0m\u001b[1;33m\u001b[0m\u001b[1;33m\u001b[0m\u001b[0m\n\u001b[0;32m      2\u001b[0m \u001b[1;33m\u001b[0m\u001b[0m\n\u001b[1;32m----> 3\u001b[1;33m \u001b[0msay_hello\u001b[0m\u001b[1;33m(\u001b[0m\u001b[1;33m)\u001b[0m\u001b[1;33m\u001b[0m\u001b[1;33m\u001b[0m\u001b[0m\n\u001b[0m",
      "\u001b[1;31mNameError\u001b[0m: name 'say_hello' is not defined"
     ]
    }
   ],
   "source": [
    "# é preciso definir a função antes de chamá-la\n",
    "\n",
    "say_hello()"
   ]
  },
  {
   "cell_type": "code",
   "execution_count": 11,
   "id": "22d0beda",
   "metadata": {},
   "outputs": [],
   "source": [
    "# cuidado: nomes de variáveis dentro e fora da função (âmbito/escopo)\n",
    "\n",
    "friends = [\"Rolf\", \"Bob\"]\n",
    "\n",
    "def add_friend():\n",
    "    #friends = [\"Ted\"]\n",
    "    friend_name = input(\"Digite o nome do seu amigo: \")\n",
    "    friends = friends + [friend_name]\n",
    "    print(friends)"
   ]
  },
  {
   "cell_type": "code",
   "execution_count": 12,
   "id": "08e894dc",
   "metadata": {},
   "outputs": [
    {
     "name": "stdout",
     "output_type": "stream",
     "text": [
      "Digite o nome do seu amigo: joao\n"
     ]
    },
    {
     "ename": "UnboundLocalError",
     "evalue": "local variable 'friends' referenced before assignment",
     "output_type": "error",
     "traceback": [
      "\u001b[1;31m---------------------------------------------------------------------------\u001b[0m",
      "\u001b[1;31mUnboundLocalError\u001b[0m                         Traceback (most recent call last)",
      "\u001b[1;32m<ipython-input-12-7a2db02abe50>\u001b[0m in \u001b[0;36m<module>\u001b[1;34m\u001b[0m\n\u001b[1;32m----> 1\u001b[1;33m \u001b[0madd_friend\u001b[0m\u001b[1;33m(\u001b[0m\u001b[1;33m)\u001b[0m\u001b[1;33m\u001b[0m\u001b[1;33m\u001b[0m\u001b[0m\n\u001b[0m",
      "\u001b[1;32m<ipython-input-11-31630ba32e11>\u001b[0m in \u001b[0;36madd_friend\u001b[1;34m()\u001b[0m\n\u001b[0;32m      6\u001b[0m     \u001b[1;31m#friends = [\"Ted\"]\u001b[0m\u001b[1;33m\u001b[0m\u001b[1;33m\u001b[0m\u001b[1;33m\u001b[0m\u001b[0m\n\u001b[0;32m      7\u001b[0m     \u001b[0mfriend_name\u001b[0m \u001b[1;33m=\u001b[0m \u001b[0minput\u001b[0m\u001b[1;33m(\u001b[0m\u001b[1;34m\"Digite o nome do seu amigo: \"\u001b[0m\u001b[1;33m)\u001b[0m\u001b[1;33m\u001b[0m\u001b[1;33m\u001b[0m\u001b[0m\n\u001b[1;32m----> 8\u001b[1;33m     \u001b[0mfriends\u001b[0m \u001b[1;33m=\u001b[0m \u001b[0mfriends\u001b[0m \u001b[1;33m+\u001b[0m \u001b[1;33m[\u001b[0m\u001b[0mfriend_name\u001b[0m\u001b[1;33m]\u001b[0m\u001b[1;33m\u001b[0m\u001b[1;33m\u001b[0m\u001b[0m\n\u001b[0m\u001b[0;32m      9\u001b[0m     \u001b[0mprint\u001b[0m\u001b[1;33m(\u001b[0m\u001b[0mfriends\u001b[0m\u001b[1;33m)\u001b[0m\u001b[1;33m\u001b[0m\u001b[1;33m\u001b[0m\u001b[0m\n",
      "\u001b[1;31mUnboundLocalError\u001b[0m: local variable 'friends' referenced before assignment"
     ]
    }
   ],
   "source": [
    "add_friend()"
   ]
  },
  {
   "cell_type": "code",
   "execution_count": 13,
   "id": "4fb9708e",
   "metadata": {},
   "outputs": [
    {
     "name": "stdout",
     "output_type": "stream",
     "text": [
      "['Rolf', 'Bob', 'Joao']\n"
     ]
    }
   ],
   "source": [
    "friends = [\"Rolf\", \"Bob\"]\n",
    "friends = friends + [\"Joao\"]\n",
    "print(friends)"
   ]
  },
  {
   "cell_type": "code",
   "execution_count": 14,
   "id": "8b663d56",
   "metadata": {},
   "outputs": [
    {
     "name": "stdout",
     "output_type": "stream",
     "text": [
      "['Rolf', 'Bob', 'Joao']\n"
     ]
    }
   ],
   "source": [
    "print(friends)"
   ]
  },
  {
   "cell_type": "code",
   "execution_count": 15,
   "id": "d34c80c7",
   "metadata": {},
   "outputs": [
    {
     "name": "stdout",
     "output_type": "stream",
     "text": [
      "['Rolf']\n"
     ]
    }
   ],
   "source": [
    "def add_friend():\n",
    "    friends.append(\"Rolf\")\n",
    "    \n",
    "friends = []\n",
    "add_friend()\n",
    "\n",
    "print(friends)"
   ]
  },
  {
   "cell_type": "markdown",
   "id": "328b8aa7",
   "metadata": {},
   "source": [
    "## Argumentos e parâmetros"
   ]
  },
  {
   "cell_type": "code",
   "execution_count": 16,
   "id": "f9d51d3b",
   "metadata": {},
   "outputs": [],
   "source": [
    "def add(x, y): # x, y = parâmetros\n",
    "    result = x + y\n",
    "    print(result)"
   ]
  },
  {
   "cell_type": "code",
   "execution_count": 17,
   "id": "f5b70410",
   "metadata": {},
   "outputs": [
    {
     "name": "stdout",
     "output_type": "stream",
     "text": [
      "5\n"
     ]
    }
   ],
   "source": [
    "add(2, 3) # 2, 3 = argumentos "
   ]
  },
  {
   "cell_type": "code",
   "execution_count": 18,
   "id": "1d379553",
   "metadata": {},
   "outputs": [],
   "source": [
    "# funções sem parametro não podem receber argumentos\n",
    "def say_hello():\n",
    "    print(\"Hello!\")"
   ]
  },
  {
   "cell_type": "code",
   "execution_count": 19,
   "id": "b210611d",
   "metadata": {},
   "outputs": [
    {
     "ename": "TypeError",
     "evalue": "say_hello() takes 0 positional arguments but 1 was given",
     "output_type": "error",
     "traceback": [
      "\u001b[1;31m---------------------------------------------------------------------------\u001b[0m",
      "\u001b[1;31mTypeError\u001b[0m                                 Traceback (most recent call last)",
      "\u001b[1;32m<ipython-input-19-68a87fe9bb38>\u001b[0m in \u001b[0;36m<module>\u001b[1;34m\u001b[0m\n\u001b[1;32m----> 1\u001b[1;33m \u001b[0msay_hello\u001b[0m\u001b[1;33m(\u001b[0m\u001b[1;34m\"Bob\"\u001b[0m\u001b[1;33m)\u001b[0m\u001b[1;33m\u001b[0m\u001b[1;33m\u001b[0m\u001b[0m\n\u001b[0m",
      "\u001b[1;31mTypeError\u001b[0m: say_hello() takes 0 positional arguments but 1 was given"
     ]
    }
   ],
   "source": [
    "say_hello(\"Bob\")"
   ]
  },
  {
   "cell_type": "code",
   "execution_count": 20,
   "id": "be061ab3",
   "metadata": {},
   "outputs": [],
   "source": [
    "# funções sem parametro não podem receber argumentos\n",
    "def say_hello(name):\n",
    "    print(f\"Hello, {name}!\")"
   ]
  },
  {
   "cell_type": "code",
   "execution_count": 21,
   "id": "829f6828",
   "metadata": {},
   "outputs": [
    {
     "name": "stdout",
     "output_type": "stream",
     "text": [
      "Hello, Bob!\n"
     ]
    }
   ],
   "source": [
    "say_hello(\"Bob\")"
   ]
  },
  {
   "cell_type": "code",
   "execution_count": 22,
   "id": "9cead8e3",
   "metadata": {},
   "outputs": [
    {
     "ename": "TypeError",
     "evalue": "say_hello() missing 1 required positional argument: 'name'",
     "output_type": "error",
     "traceback": [
      "\u001b[1;31m---------------------------------------------------------------------------\u001b[0m",
      "\u001b[1;31mTypeError\u001b[0m                                 Traceback (most recent call last)",
      "\u001b[1;32m<ipython-input-22-faa5fc24272a>\u001b[0m in \u001b[0;36m<module>\u001b[1;34m\u001b[0m\n\u001b[1;32m----> 1\u001b[1;33m \u001b[0msay_hello\u001b[0m\u001b[1;33m(\u001b[0m\u001b[1;33m)\u001b[0m\u001b[1;33m\u001b[0m\u001b[1;33m\u001b[0m\u001b[0m\n\u001b[0m",
      "\u001b[1;31mTypeError\u001b[0m: say_hello() missing 1 required positional argument: 'name'"
     ]
    }
   ],
   "source": [
    "say_hello()"
   ]
  },
  {
   "cell_type": "code",
   "execution_count": 23,
   "id": "96c93b67",
   "metadata": {},
   "outputs": [
    {
     "name": "stdout",
     "output_type": "stream",
     "text": [
      "Hello, Bob!\n"
     ]
    }
   ],
   "source": [
    "say_hello(name=\"Bob\") # keyword"
   ]
  },
  {
   "cell_type": "code",
   "execution_count": 24,
   "id": "8f03cc89",
   "metadata": {},
   "outputs": [],
   "source": [
    "def divide(dividend, divisor):\n",
    "    if divisor != 0:\n",
    "        print(dividend/divisor)\n",
    "    else:\n",
    "        print(\"Erro! Divisão por zero!\")"
   ]
  },
  {
   "cell_type": "code",
   "execution_count": 25,
   "id": "055a498b",
   "metadata": {},
   "outputs": [
    {
     "name": "stdout",
     "output_type": "stream",
     "text": [
      "5.0\n"
     ]
    }
   ],
   "source": [
    "divide(15, 3)"
   ]
  },
  {
   "cell_type": "code",
   "execution_count": 26,
   "id": "f823675a",
   "metadata": {},
   "outputs": [
    {
     "name": "stdout",
     "output_type": "stream",
     "text": [
      "0.2\n"
     ]
    }
   ],
   "source": [
    "divide(3, 15)"
   ]
  },
  {
   "cell_type": "code",
   "execution_count": 27,
   "id": "008db2cf",
   "metadata": {},
   "outputs": [
    {
     "name": "stdout",
     "output_type": "stream",
     "text": [
      "5.0\n"
     ]
    }
   ],
   "source": [
    "divide(dividend=15, divisor=3)"
   ]
  },
  {
   "cell_type": "code",
   "execution_count": 28,
   "id": "2fb26f7e",
   "metadata": {},
   "outputs": [
    {
     "name": "stdout",
     "output_type": "stream",
     "text": [
      "5.0\n"
     ]
    }
   ],
   "source": [
    "divide(divisor=3, dividend=15)"
   ]
  },
  {
   "cell_type": "code",
   "execution_count": 29,
   "id": "8dc9a73c",
   "metadata": {},
   "outputs": [
    {
     "name": "stdout",
     "output_type": "stream",
     "text": [
      "5.0\n"
     ]
    }
   ],
   "source": [
    "divide(15, divisor=3)"
   ]
  },
  {
   "cell_type": "code",
   "execution_count": 30,
   "id": "d0765598",
   "metadata": {},
   "outputs": [
    {
     "ename": "SyntaxError",
     "evalue": "positional argument follows keyword argument (<ipython-input-30-ddde8110d90a>, line 1)",
     "output_type": "error",
     "traceback": [
      "\u001b[1;36m  File \u001b[1;32m\"<ipython-input-30-ddde8110d90a>\"\u001b[1;36m, line \u001b[1;32m1\u001b[0m\n\u001b[1;33m    divide(dividend=15, 3)\u001b[0m\n\u001b[1;37m                        ^\u001b[0m\n\u001b[1;31mSyntaxError\u001b[0m\u001b[1;31m:\u001b[0m positional argument follows keyword argument\n"
     ]
    }
   ],
   "source": [
    "divide(dividend=15, 3)"
   ]
  },
  {
   "cell_type": "markdown",
   "id": "1181f0e1",
   "metadata": {},
   "source": [
    "### Parametros com valores default\n",
    "\n",
    "**Ordem de parâmetros opcionais ou default**\n",
    "* Primeiro parâmetros que são obrigatórios e não possuem valores default\n",
    "* Depois parâmetros com valores padrão"
   ]
  },
  {
   "cell_type": "code",
   "execution_count": 31,
   "id": "79401e5d",
   "metadata": {},
   "outputs": [],
   "source": [
    "def add(x, y=3):\n",
    "    print(x + y)"
   ]
  },
  {
   "cell_type": "code",
   "execution_count": 32,
   "id": "b3b3e8b6",
   "metadata": {},
   "outputs": [
    {
     "ename": "SyntaxError",
     "evalue": "non-default argument follows default argument (<ipython-input-32-fb9bbbcf36c6>, line 1)",
     "output_type": "error",
     "traceback": [
      "\u001b[1;36m  File \u001b[1;32m\"<ipython-input-32-fb9bbbcf36c6>\"\u001b[1;36m, line \u001b[1;32m1\u001b[0m\n\u001b[1;33m    def add(x=4, y):\u001b[0m\n\u001b[1;37m            ^\u001b[0m\n\u001b[1;31mSyntaxError\u001b[0m\u001b[1;31m:\u001b[0m non-default argument follows default argument\n"
     ]
    }
   ],
   "source": [
    "def add(x=4, y):\n",
    "    print(x + y)"
   ]
  },
  {
   "cell_type": "code",
   "execution_count": 33,
   "id": "e53f2369",
   "metadata": {},
   "outputs": [
    {
     "name": "stdout",
     "output_type": "stream",
     "text": [
      "8\n"
     ]
    }
   ],
   "source": [
    "add(5)"
   ]
  },
  {
   "cell_type": "code",
   "execution_count": 34,
   "id": "1a9468d8",
   "metadata": {},
   "outputs": [
    {
     "name": "stdout",
     "output_type": "stream",
     "text": [
      "13\n"
     ]
    }
   ],
   "source": [
    "add(5, 8)"
   ]
  },
  {
   "cell_type": "code",
   "execution_count": 35,
   "id": "da729bc4",
   "metadata": {},
   "outputs": [
    {
     "ename": "TypeError",
     "evalue": "add() missing 1 required positional argument: 'x'",
     "output_type": "error",
     "traceback": [
      "\u001b[1;31m---------------------------------------------------------------------------\u001b[0m",
      "\u001b[1;31mTypeError\u001b[0m                                 Traceback (most recent call last)",
      "\u001b[1;32m<ipython-input-35-1b3860454ae1>\u001b[0m in \u001b[0;36m<module>\u001b[1;34m\u001b[0m\n\u001b[1;32m----> 1\u001b[1;33m \u001b[0madd\u001b[0m\u001b[1;33m(\u001b[0m\u001b[0my\u001b[0m\u001b[1;33m=\u001b[0m\u001b[1;36m3\u001b[0m\u001b[1;33m)\u001b[0m\u001b[1;33m\u001b[0m\u001b[1;33m\u001b[0m\u001b[0m\n\u001b[0m",
      "\u001b[1;31mTypeError\u001b[0m: add() missing 1 required positional argument: 'x'"
     ]
    }
   ],
   "source": [
    "add(y=3)"
   ]
  },
  {
   "cell_type": "markdown",
   "id": "cd92f3c0",
   "metadata": {},
   "source": [
    "## Funções que retornam valores"
   ]
  },
  {
   "cell_type": "code",
   "execution_count": 36,
   "id": "84bd51c2",
   "metadata": {},
   "outputs": [],
   "source": [
    "def add(x, y):\n",
    "    print(x + y)"
   ]
  },
  {
   "cell_type": "code",
   "execution_count": 37,
   "id": "3ffb1f34",
   "metadata": {},
   "outputs": [
    {
     "name": "stdout",
     "output_type": "stream",
     "text": [
      "13\n"
     ]
    }
   ],
   "source": [
    "add(5, 8)"
   ]
  },
  {
   "cell_type": "code",
   "execution_count": 38,
   "id": "0c6ab51f",
   "metadata": {},
   "outputs": [
    {
     "name": "stdout",
     "output_type": "stream",
     "text": [
      "13\n"
     ]
    }
   ],
   "source": [
    "result = add(5, 8)"
   ]
  },
  {
   "cell_type": "code",
   "execution_count": 39,
   "id": "f84b8738",
   "metadata": {},
   "outputs": [],
   "source": [
    "result"
   ]
  },
  {
   "cell_type": "code",
   "execution_count": 40,
   "id": "1180b3a3",
   "metadata": {},
   "outputs": [],
   "source": [
    "def add(x, y):\n",
    "    return x + y"
   ]
  },
  {
   "cell_type": "code",
   "execution_count": 41,
   "id": "7bc74c00",
   "metadata": {},
   "outputs": [],
   "source": [
    "result = add(5, 8)"
   ]
  },
  {
   "cell_type": "code",
   "execution_count": 42,
   "id": "2b914f68",
   "metadata": {},
   "outputs": [
    {
     "name": "stdout",
     "output_type": "stream",
     "text": [
      "13\n"
     ]
    }
   ],
   "source": [
    "print(result)"
   ]
  },
  {
   "cell_type": "code",
   "execution_count": 43,
   "id": "12c504a4",
   "metadata": {},
   "outputs": [],
   "source": [
    "def add(x, y):\n",
    "    return\n",
    "    print(x + y)\n",
    "    return x + y"
   ]
  },
  {
   "cell_type": "code",
   "execution_count": 44,
   "id": "1ccdc516",
   "metadata": {},
   "outputs": [],
   "source": [
    "add(3, 4)"
   ]
  },
  {
   "cell_type": "code",
   "execution_count": 45,
   "id": "3a2ab9f8",
   "metadata": {},
   "outputs": [],
   "source": [
    "def divide(dividend, divisor):\n",
    "    if divisor != 0:\n",
    "        return dividend/divisor\n",
    "    else:\n",
    "        return \"Erro! Divisão por zero!\""
   ]
  },
  {
   "cell_type": "code",
   "execution_count": 46,
   "id": "ea0723b5",
   "metadata": {},
   "outputs": [],
   "source": [
    "result = divide(15, 3)"
   ]
  },
  {
   "cell_type": "code",
   "execution_count": 47,
   "id": "1587efcc",
   "metadata": {},
   "outputs": [
    {
     "name": "stdout",
     "output_type": "stream",
     "text": [
      "5.0\n"
     ]
    }
   ],
   "source": [
    "print(result)"
   ]
  },
  {
   "cell_type": "code",
   "execution_count": 48,
   "id": "cbee575f",
   "metadata": {},
   "outputs": [
    {
     "name": "stdout",
     "output_type": "stream",
     "text": [
      "Erro! Divisão por zero!\n"
     ]
    }
   ],
   "source": [
    "another = divide(15, 0)\n",
    "print(another)"
   ]
  },
  {
   "cell_type": "markdown",
   "id": "b16a5d00",
   "metadata": {},
   "source": [
    "### Funções lambda\n",
    "\n",
    "* Funções curtas, que não serão reutilizadas. Geralmente usadas sem atribuir à função um nome\n",
    "* Por exemplo, usando a função map\n",
    "* map aplica a função a todos os valores de uma lista\n",
    "* quase sempre funções de uma única linha\n"
   ]
  },
  {
   "cell_type": "code",
   "execution_count": 49,
   "id": "2925e0cf",
   "metadata": {},
   "outputs": [
    {
     "name": "stdout",
     "output_type": "stream",
     "text": [
      "12\n"
     ]
    }
   ],
   "source": [
    "def add(x, y):\n",
    "    return x + y\n",
    "\n",
    "print(add(5, 7))"
   ]
  },
  {
   "cell_type": "code",
   "execution_count": 50,
   "id": "8c5e44c9",
   "metadata": {},
   "outputs": [
    {
     "name": "stdout",
     "output_type": "stream",
     "text": [
      "12\n"
     ]
    }
   ],
   "source": [
    "add_2 = lambda x, y: x + y\n",
    "print(add_2(5, 7))"
   ]
  },
  {
   "cell_type": "code",
   "execution_count": 51,
   "id": "c6ff4de5",
   "metadata": {},
   "outputs": [],
   "source": [
    "def double(x):\n",
    "    return x*2"
   ]
  },
  {
   "cell_type": "code",
   "execution_count": 52,
   "id": "a8d02327",
   "metadata": {},
   "outputs": [],
   "source": [
    "sequence = [1, 3, 5, 9]"
   ]
  },
  {
   "cell_type": "code",
   "execution_count": 53,
   "id": "ee640ee8",
   "metadata": {},
   "outputs": [
    {
     "data": {
      "text/plain": [
       "[2, 6, 10, 18]"
      ]
     },
     "execution_count": 53,
     "metadata": {},
     "output_type": "execute_result"
    }
   ],
   "source": [
    "doubled = [\n",
    "    double(x) for x in sequence\n",
    "]\n",
    "doubled"
   ]
  },
  {
   "cell_type": "code",
   "execution_count": 54,
   "id": "221f99be",
   "metadata": {},
   "outputs": [
    {
     "name": "stdout",
     "output_type": "stream",
     "text": [
      "[2, 6, 10, 18]\n"
     ]
    }
   ],
   "source": [
    "doubled_2 = map(double, sequence)\n",
    "print(list(doubled_2))"
   ]
  },
  {
   "cell_type": "code",
   "execution_count": 55,
   "id": "8da6cd1c",
   "metadata": {},
   "outputs": [],
   "source": [
    "doubled_3 = map(lambda x: x*2, sequence)"
   ]
  },
  {
   "cell_type": "code",
   "execution_count": 56,
   "id": "c7c2b0af",
   "metadata": {},
   "outputs": [
    {
     "data": {
      "text/plain": [
       "[2, 6, 10, 18]"
      ]
     },
     "execution_count": 56,
     "metadata": {},
     "output_type": "execute_result"
    }
   ],
   "source": [
    "list(doubled_3)"
   ]
  },
  {
   "cell_type": "markdown",
   "id": "4cb9b1d3",
   "metadata": {},
   "source": [
    "### Desempacotando argumentos"
   ]
  },
  {
   "cell_type": "code",
   "execution_count": 57,
   "id": "284bf7dd",
   "metadata": {},
   "outputs": [],
   "source": [
    "# declarar a função para número variável de argumentos\n",
    "def multiply(*args):\n",
    "    print(args)\n",
    "    total = 1\n",
    "    for arg in args:\n",
    "        total = total * arg\n",
    "    return total"
   ]
  },
  {
   "cell_type": "code",
   "execution_count": 58,
   "id": "5483e3fb",
   "metadata": {},
   "outputs": [
    {
     "name": "stdout",
     "output_type": "stream",
     "text": [
      "(3, 5)\n"
     ]
    },
    {
     "data": {
      "text/plain": [
       "15"
      ]
     },
     "execution_count": 58,
     "metadata": {},
     "output_type": "execute_result"
    }
   ],
   "source": [
    "multiply(3, 5)"
   ]
  },
  {
   "cell_type": "code",
   "execution_count": 59,
   "id": "15324acc",
   "metadata": {},
   "outputs": [
    {
     "name": "stdout",
     "output_type": "stream",
     "text": [
      "(2, 3, 5)\n"
     ]
    },
    {
     "data": {
      "text/plain": [
       "30"
      ]
     },
     "execution_count": 59,
     "metadata": {},
     "output_type": "execute_result"
    }
   ],
   "source": [
    "multiply(2, 3, 5)"
   ]
  },
  {
   "cell_type": "code",
   "execution_count": 60,
   "id": "eea9d341",
   "metadata": {},
   "outputs": [
    {
     "data": {
      "text/plain": [
       "8"
      ]
     },
     "execution_count": 60,
     "metadata": {},
     "output_type": "execute_result"
    }
   ],
   "source": [
    "add(3, 5)"
   ]
  },
  {
   "cell_type": "code",
   "execution_count": 61,
   "id": "206724d3",
   "metadata": {},
   "outputs": [
    {
     "data": {
      "text/plain": [
       "8"
      ]
     },
     "execution_count": 61,
     "metadata": {},
     "output_type": "execute_result"
    }
   ],
   "source": [
    "nums = [3, 5]\n",
    "add(*nums)"
   ]
  },
  {
   "cell_type": "code",
   "execution_count": 62,
   "id": "34355e5f",
   "metadata": {},
   "outputs": [
    {
     "ename": "TypeError",
     "evalue": "add() takes 2 positional arguments but 3 were given",
     "output_type": "error",
     "traceback": [
      "\u001b[1;31m---------------------------------------------------------------------------\u001b[0m",
      "\u001b[1;31mTypeError\u001b[0m                                 Traceback (most recent call last)",
      "\u001b[1;32m<ipython-input-62-063973cd56b4>\u001b[0m in \u001b[0;36m<module>\u001b[1;34m\u001b[0m\n\u001b[0;32m      1\u001b[0m \u001b[0mnums\u001b[0m \u001b[1;33m=\u001b[0m \u001b[1;33m[\u001b[0m\u001b[1;36m3\u001b[0m\u001b[1;33m,\u001b[0m \u001b[1;36m5\u001b[0m\u001b[1;33m,\u001b[0m \u001b[1;36m6\u001b[0m\u001b[1;33m]\u001b[0m\u001b[1;33m\u001b[0m\u001b[1;33m\u001b[0m\u001b[0m\n\u001b[1;32m----> 2\u001b[1;33m \u001b[0madd\u001b[0m\u001b[1;33m(\u001b[0m\u001b[1;33m*\u001b[0m\u001b[0mnums\u001b[0m\u001b[1;33m)\u001b[0m\u001b[1;33m\u001b[0m\u001b[1;33m\u001b[0m\u001b[0m\n\u001b[0m",
      "\u001b[1;31mTypeError\u001b[0m: add() takes 2 positional arguments but 3 were given"
     ]
    }
   ],
   "source": [
    "nums = [3, 5, 6]\n",
    "add(*nums)"
   ]
  },
  {
   "cell_type": "markdown",
   "id": "dcaf3109",
   "metadata": {},
   "source": [
    "#### Desempacotando argumentos keywords"
   ]
  },
  {
   "cell_type": "code",
   "execution_count": 63,
   "id": "6403e8cd",
   "metadata": {},
   "outputs": [],
   "source": [
    "# declarar a função para número variável de argumentos\n",
    "def multiply(*args):\n",
    "    print(args)\n",
    "    total = 1\n",
    "    for arg in args:\n",
    "        total = total * arg\n",
    "    return total"
   ]
  },
  {
   "cell_type": "code",
   "execution_count": 64,
   "id": "7e429251",
   "metadata": {},
   "outputs": [],
   "source": [
    "def apply(*args, operator):\n",
    "    if operator == '*':\n",
    "        return multiply(args)\n",
    "    elif operator == '+':\n",
    "        return sum(args)\n",
    "    else:\n",
    "        return \"Não foram passados argumentos válidos para função apply().\""
   ]
  },
  {
   "cell_type": "code",
   "execution_count": 65,
   "id": "694cc262",
   "metadata": {},
   "outputs": [
    {
     "data": {
      "text/plain": [
       "17"
      ]
     },
     "execution_count": 65,
     "metadata": {},
     "output_type": "execute_result"
    }
   ],
   "source": [
    "apply(1, 3, 6, 7, operator = \"+\")"
   ]
  },
  {
   "cell_type": "code",
   "execution_count": 66,
   "id": "d05b25b1",
   "metadata": {},
   "outputs": [
    {
     "ename": "TypeError",
     "evalue": "apply() missing 1 required keyword-only argument: 'operator'",
     "output_type": "error",
     "traceback": [
      "\u001b[1;31m---------------------------------------------------------------------------\u001b[0m",
      "\u001b[1;31mTypeError\u001b[0m                                 Traceback (most recent call last)",
      "\u001b[1;32m<ipython-input-66-1a2d21063f62>\u001b[0m in \u001b[0;36m<module>\u001b[1;34m\u001b[0m\n\u001b[1;32m----> 1\u001b[1;33m \u001b[0mapply\u001b[0m\u001b[1;33m(\u001b[0m\u001b[1;36m1\u001b[0m\u001b[1;33m,\u001b[0m \u001b[1;36m3\u001b[0m\u001b[1;33m,\u001b[0m \u001b[1;36m7\u001b[0m\u001b[1;33m,\u001b[0m \u001b[1;34m\"+\"\u001b[0m\u001b[1;33m)\u001b[0m\u001b[1;33m\u001b[0m\u001b[1;33m\u001b[0m\u001b[0m\n\u001b[0m",
      "\u001b[1;31mTypeError\u001b[0m: apply() missing 1 required keyword-only argument: 'operator'"
     ]
    }
   ],
   "source": [
    "apply(1, 3, 7, \"+\")"
   ]
  },
  {
   "cell_type": "code",
   "execution_count": 67,
   "id": "093ecd51",
   "metadata": {},
   "outputs": [
    {
     "name": "stdout",
     "output_type": "stream",
     "text": [
      "{'name': 'Bob', 'age': 25}\n"
     ]
    }
   ],
   "source": [
    "def named(**kwargs): #kw = keywords\n",
    "    print(kwargs)\n",
    "named(name = \"Bob\", age = 25)"
   ]
  },
  {
   "cell_type": "code",
   "execution_count": 68,
   "id": "7955cb3d",
   "metadata": {},
   "outputs": [],
   "source": [
    "def print_nicely(**kwargs):\n",
    "    named(**kwargs)\n",
    "    for arg, value in kwargs.items():\n",
    "        print(f\"{arg}: {value}\")"
   ]
  },
  {
   "cell_type": "code",
   "execution_count": 69,
   "id": "a2c9034c",
   "metadata": {},
   "outputs": [
    {
     "name": "stdout",
     "output_type": "stream",
     "text": [
      "{'name': 'Bob', 'age': 25}\n",
      "name: Bob\n",
      "age: 25\n"
     ]
    }
   ],
   "source": [
    "print_nicely(name=\"Bob\", age=25)"
   ]
  },
  {
   "cell_type": "code",
   "execution_count": 70,
   "id": "f5b86cb0",
   "metadata": {},
   "outputs": [
    {
     "name": "stdout",
     "output_type": "stream",
     "text": [
      "(1, 3, 5)\n",
      "{'name': 'Bob', 'age': 25}\n"
     ]
    }
   ],
   "source": [
    "def both(*args, **kwargs):\n",
    "    print(args)\n",
    "    print(kwargs)\n",
    "    \n",
    "both(1, 3, 5, name=\"Bob\", age=25)"
   ]
  },
  {
   "cell_type": "markdown",
   "id": "9ad81485",
   "metadata": {},
   "source": [
    "Isto permite a criação de funções com um número ilimitado de argumentos ou de argumentos keywords\n",
    "\n",
    "```Python\n",
    "def post(url, data=None, json=None, **kwargs):\n",
    "    return request('post', url, data=data, json=json, **kwargs)\n",
    "```"
   ]
  },
  {
   "cell_type": "code",
   "execution_count": null,
   "id": "877d5f4f",
   "metadata": {},
   "outputs": [],
   "source": []
  }
 ],
 "metadata": {
  "kernelspec": {
   "display_name": "Python 3",
   "language": "python",
   "name": "python3"
  },
  "language_info": {
   "codemirror_mode": {
    "name": "ipython",
    "version": 3
   },
   "file_extension": ".py",
   "mimetype": "text/x-python",
   "name": "python",
   "nbconvert_exporter": "python",
   "pygments_lexer": "ipython3",
   "version": "3.8.8"
  }
 },
 "nbformat": 4,
 "nbformat_minor": 5
}
