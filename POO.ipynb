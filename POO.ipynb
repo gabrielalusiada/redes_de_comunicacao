{
 "cells": [
  {
   "cell_type": "code",
   "execution_count": 1,
   "id": "9c4745a7",
   "metadata": {},
   "outputs": [],
   "source": [
    "student = {\"name\": \"Bob\", \"grades\": (89, 90, 73, 90)}"
   ]
  },
  {
   "cell_type": "code",
   "execution_count": 2,
   "id": "cf614440",
   "metadata": {},
   "outputs": [],
   "source": [
    "def average(sequence):\n",
    "    return sum(sequence)/len(sequence)"
   ]
  },
  {
   "cell_type": "code",
   "execution_count": 4,
   "id": "578b919e",
   "metadata": {},
   "outputs": [
    {
     "name": "stdout",
     "output_type": "stream",
     "text": [
      "85.5\n"
     ]
    }
   ],
   "source": [
    "print(average(student['grades']))"
   ]
  },
  {
   "cell_type": "code",
   "execution_count": null,
   "id": "927609ad",
   "metadata": {},
   "outputs": [],
   "source": [
    "# E se pudessemos ter algo\n",
    "print(student.average())"
   ]
  },
  {
   "cell_type": "code",
   "execution_count": 5,
   "id": "548f0a3b",
   "metadata": {},
   "outputs": [],
   "source": [
    "# E se pudessemos ter algo\n",
    "# print(student.average())\n",
    "\n",
    "class Student:\n",
    "    def __init__(self):\n",
    "        self.name = \"Rolf\"\n",
    "        self.grades = (89, 90, 93, 78, 90)\n",
    "        \n",
    "    def average(self):\n",
    "        return sum(self.grades)/len(self.grades)"
   ]
  },
  {
   "cell_type": "code",
   "execution_count": 6,
   "id": "40cb83c4",
   "metadata": {},
   "outputs": [
    {
     "name": "stdout",
     "output_type": "stream",
     "text": [
      "<__main__.Student object at 0x000001C5D35F7DC0>\n"
     ]
    }
   ],
   "source": [
    "student = Student()\n",
    "print(student)"
   ]
  },
  {
   "cell_type": "code",
   "execution_count": 9,
   "id": "540619db",
   "metadata": {},
   "outputs": [
    {
     "data": {
      "text/plain": [
       "('Rolf', (89, 90, 93, 78, 90))"
      ]
     },
     "execution_count": 9,
     "metadata": {},
     "output_type": "execute_result"
    }
   ],
   "source": [
    "student.name, student.grades"
   ]
  },
  {
   "cell_type": "code",
   "execution_count": 7,
   "id": "8efd6d23",
   "metadata": {},
   "outputs": [
    {
     "name": "stdout",
     "output_type": "stream",
     "text": [
      "88.0\n"
     ]
    }
   ],
   "source": [
    "print(student.average())"
   ]
  },
  {
   "cell_type": "code",
   "execution_count": 10,
   "id": "c70fcc2c",
   "metadata": {},
   "outputs": [],
   "source": [
    "class Student:\n",
    "    def __init__(self, name, grades):\n",
    "        self.name = name\n",
    "        self.grades = grades\n",
    "        \n",
    "    def average(self):\n",
    "        return sum(self.grades)/len(self.grades)"
   ]
  },
  {
   "cell_type": "code",
   "execution_count": 11,
   "id": "2d10d4a5",
   "metadata": {},
   "outputs": [
    {
     "data": {
      "text/plain": [
       "78.6"
      ]
     },
     "execution_count": 11,
     "metadata": {},
     "output_type": "execute_result"
    }
   ],
   "source": [
    "student = Student(\"Bob\", (36, 67, 90, 100, 100))\n",
    "student.average()"
   ]
  },
  {
   "cell_type": "code",
   "execution_count": 13,
   "id": "8ac73b1a",
   "metadata": {},
   "outputs": [
    {
     "data": {
      "text/plain": [
       "<__main__.Student at 0x1c5d36405b0>"
      ]
     },
     "execution_count": 13,
     "metadata": {},
     "output_type": "execute_result"
    }
   ],
   "source": [
    "student"
   ]
  },
  {
   "cell_type": "code",
   "execution_count": 12,
   "id": "6a2a0271",
   "metadata": {},
   "outputs": [
    {
     "data": {
      "text/plain": [
       "88.0"
      ]
     },
     "execution_count": 12,
     "metadata": {},
     "output_type": "execute_result"
    }
   ],
   "source": [
    "student_2 = Student(\"Rolf\", (89, 90, 93, 78, 90))\n",
    "student_2.average()"
   ]
  },
  {
   "cell_type": "code",
   "execution_count": 14,
   "id": "63d566b5",
   "metadata": {},
   "outputs": [
    {
     "data": {
      "text/plain": [
       "<__main__.Student at 0x1c5d35f77c0>"
      ]
     },
     "execution_count": 14,
     "metadata": {},
     "output_type": "execute_result"
    }
   ],
   "source": [
    "student_2"
   ]
  },
  {
   "cell_type": "markdown",
   "id": "6a8be834",
   "metadata": {},
   "source": [
    "## Funções x Métodos\n",
    "\n",
    "Uma função que é declarada dentro de uma classe é chamada de método. Assim, métodos são funções, mas nem todas as funções são métodos.\n",
    "\n",
    "**Funções**\n",
    "\n",
    "```Python\n",
    "    def average(sequence):\n",
    "        return sum(sequence)/len(sequence)\n",
    "```\n",
    "\n",
    "**Método**\n",
    "```Python\n",
    "    class Student:\n",
    "        def __init__(self, name, grades):\n",
    "            self.name = name\n",
    "            self.grades = grades\n",
    "\n",
    "        def average(self):\n",
    "            return sum(self.grades)/len(self.grades)\n",
    "```"
   ]
  },
  {
   "cell_type": "markdown",
   "id": "3f9e9841",
   "metadata": {},
   "source": [
    "## Métodos Mágicos"
   ]
  },
  {
   "cell_type": "code",
   "execution_count": 15,
   "id": "b1f8f69e",
   "metadata": {},
   "outputs": [],
   "source": [
    "class Person:\n",
    "    def __init__(self, name, age):\n",
    "        self.name = name\n",
    "        self.age = age\n",
    "        "
   ]
  },
  {
   "cell_type": "code",
   "execution_count": 16,
   "id": "2598fe07",
   "metadata": {},
   "outputs": [],
   "source": [
    "bob = Person(\"Bob\", 25)"
   ]
  },
  {
   "cell_type": "code",
   "execution_count": 17,
   "id": "61c6f843",
   "metadata": {},
   "outputs": [
    {
     "data": {
      "text/plain": [
       "<__main__.Person at 0x1c5d35f7fa0>"
      ]
     },
     "execution_count": 17,
     "metadata": {},
     "output_type": "execute_result"
    }
   ],
   "source": [
    "bob"
   ]
  },
  {
   "cell_type": "code",
   "execution_count": 18,
   "id": "55657a38",
   "metadata": {},
   "outputs": [
    {
     "name": "stdout",
     "output_type": "stream",
     "text": [
      "Person Bob, 25 anos de idade\n"
     ]
    }
   ],
   "source": [
    "print(f'Person {bob.name}, {bob.age} anos de idade')"
   ]
  },
  {
   "cell_type": "code",
   "execution_count": 19,
   "id": "ad864dfa",
   "metadata": {},
   "outputs": [],
   "source": [
    "class Person:\n",
    "    def __init__(self, name, age):\n",
    "        self.name = name\n",
    "        self.age = age\n",
    "    \n",
    "    def __str__(self):\n",
    "        return f'Person {self.name}, {self.age} anos de idade'"
   ]
  },
  {
   "cell_type": "code",
   "execution_count": 20,
   "id": "ead5f838",
   "metadata": {},
   "outputs": [
    {
     "name": "stdout",
     "output_type": "stream",
     "text": [
      "Person Bob, 25 anos de idade\n"
     ]
    }
   ],
   "source": [
    "bob = Person(\"Bob\", 25)\n",
    "print(bob)"
   ]
  },
  {
   "cell_type": "code",
   "execution_count": 23,
   "id": "374a6ebe",
   "metadata": {},
   "outputs": [],
   "source": [
    "class Person:\n",
    "    def __init__(self, name, age):\n",
    "        self.name = name\n",
    "        self.age = age\n",
    "    \n",
    "    def __repr__(self):\n",
    "        return f'<Person({self.name}, {self.age})>'"
   ]
  },
  {
   "cell_type": "code",
   "execution_count": 24,
   "id": "d8c9ab85",
   "metadata": {},
   "outputs": [
    {
     "name": "stdout",
     "output_type": "stream",
     "text": [
      "<Person(Bob, 25)>\n"
     ]
    }
   ],
   "source": [
    "bob = Person(\"Bob\", 25)\n",
    "print(bob)"
   ]
  },
  {
   "cell_type": "code",
   "execution_count": 25,
   "id": "03417015",
   "metadata": {},
   "outputs": [],
   "source": [
    "class Person:\n",
    "    def __init__(self, name, age):\n",
    "        self.name = name\n",
    "        self.age = age\n",
    "        \n",
    "    def __repr__(self):\n",
    "        return f'<Person({self.name}, {self.age})>'\n",
    "    \n",
    "    def __str__(self):\n",
    "        return f'Person {self.name}, {self.age} anos de idade'"
   ]
  },
  {
   "cell_type": "code",
   "execution_count": 26,
   "id": "ab00ac66",
   "metadata": {},
   "outputs": [
    {
     "name": "stdout",
     "output_type": "stream",
     "text": [
      "Person Bob, 25 anos de idade\n"
     ]
    }
   ],
   "source": [
    "bob = Person(\"Bob\", 25)\n",
    "print(bob)"
   ]
  },
  {
   "cell_type": "code",
   "execution_count": 27,
   "id": "4c783e8a",
   "metadata": {},
   "outputs": [
    {
     "data": {
      "text/plain": [
       "'<Person(Bob, 25)>'"
      ]
     },
     "execution_count": 27,
     "metadata": {},
     "output_type": "execute_result"
    }
   ],
   "source": [
    "repr(bob)"
   ]
  },
  {
   "cell_type": "code",
   "execution_count": 28,
   "id": "96b51967",
   "metadata": {},
   "outputs": [
    {
     "data": {
      "text/plain": [
       "'Person Bob, 25 anos de idade'"
      ]
     },
     "execution_count": 28,
     "metadata": {},
     "output_type": "execute_result"
    }
   ],
   "source": [
    "str(bob)"
   ]
  },
  {
   "cell_type": "code",
   "execution_count": 31,
   "id": "68798386",
   "metadata": {},
   "outputs": [
    {
     "name": "stdout",
     "output_type": "stream",
     "text": [
      "(1/2)\n",
      "Fraction (1,2)\n"
     ]
    }
   ],
   "source": [
    "class Fraction:\n",
    "    def __init__(self, num, den):\n",
    "        self.num = num\n",
    "        self.den = den\n",
    "        \n",
    "    def __str__(self):\n",
    "        return f'({self.num}/{self.den})'\n",
    "    \n",
    "    def __repr__(self):\n",
    "        return 'Fraction (' + str(self.num) + ',' + str(self.den) + ')'\n",
    "    \n",
    "f = Fraction(1,2)\n",
    "print(str(f))\n",
    "print(repr(f))"
   ]
  },
  {
   "cell_type": "markdown",
   "id": "5e969a91",
   "metadata": {},
   "source": [
    "## Exercício 1 - 15 minutos\n",
    "\n",
    "Complete a implementação dos três métodos da classe:\n",
    "\n",
    "1. O método ```__init__```, que deve receber um argumento (```name```). Ele deve iniciar ```self.name``` para o valor do argumento e ```self.item```para ser uma lista vazia.\n",
    "2. O método ```add_item```, que deve acrescentar um dicionário representando um item para a propriedade ```items```. O dicionário deve ter como chaves ```name``` e ```price```\n",
    "3. O método ```stock_price```, que deve adicionar o preço de cada item dentro de ```self.items``` para obter o total, que deverá ser retornado.\n"
   ]
  },
  {
   "cell_type": "code",
   "execution_count": 39,
   "id": "2fc7b6c1",
   "metadata": {},
   "outputs": [],
   "source": [
    "class Store:\n",
    "    def __init__(self, name):\n",
    "        # Você vai precisar de 'name' como um argumento para este método\n",
    "        # Inicialize self.name para o valor e self.items como uma lista vazia\n",
    "        self.name = name\n",
    "        self.items = []\n",
    "    \n",
    "    def add_item(self, name, price):\n",
    "        # Crie um dicionario com keys name e price, e adicione a self.items\n",
    "        item = {'name': name, 'price': price}\n",
    "        self.items.append(item)\n",
    "        \n",
    "    def stock_price(self):\n",
    "        # some todos os preços em items e retorne o valor total\n",
    "        total = 0\n",
    "        for item in self.items:\n",
    "            total += item['price']\n",
    "        return total\n",
    "        "
   ]
  },
  {
   "cell_type": "code",
   "execution_count": 40,
   "id": "d277618b",
   "metadata": {},
   "outputs": [],
   "source": [
    "store = Store('loja da avó')"
   ]
  },
  {
   "cell_type": "code",
   "execution_count": 41,
   "id": "d1d2ddc5",
   "metadata": {},
   "outputs": [],
   "source": [
    "store.add_item('bolo', 5)"
   ]
  },
  {
   "cell_type": "code",
   "execution_count": 42,
   "id": "4fafa71e",
   "metadata": {},
   "outputs": [],
   "source": [
    "store.add_item('torta', 7)"
   ]
  },
  {
   "cell_type": "code",
   "execution_count": 43,
   "id": "109c3d31",
   "metadata": {},
   "outputs": [
    {
     "data": {
      "text/plain": [
       "12"
      ]
     },
     "execution_count": 43,
     "metadata": {},
     "output_type": "execute_result"
    }
   ],
   "source": [
    "store.stock_price()"
   ]
  },
  {
   "cell_type": "code",
   "execution_count": 44,
   "id": "c84aa6b7",
   "metadata": {},
   "outputs": [],
   "source": [
    "class Store:\n",
    "    def __init__(self, name):\n",
    "        # Você vai precisar de 'name' como um argumento para este método\n",
    "        # Inicialize self.name para o valor e self.items como uma lista vazia\n",
    "        self.name = name\n",
    "        self.items = []\n",
    "    \n",
    "    def add_item(self, name, price):\n",
    "        # Crie um dicionario com keys name e price, e adicione a self.items\n",
    "        item = {'name': name, 'price': price}\n",
    "        self.items.append(item)\n",
    "        \n",
    "    def stock_price(self):\n",
    "        # some todos os preços em items e retorne o valor total\n",
    "        return sum([item['price'] for item in self.items])\n",
    "        "
   ]
  },
  {
   "cell_type": "code",
   "execution_count": 45,
   "id": "71d1bac4",
   "metadata": {},
   "outputs": [
    {
     "data": {
      "text/plain": [
       "12"
      ]
     },
     "execution_count": 45,
     "metadata": {},
     "output_type": "execute_result"
    }
   ],
   "source": [
    "store2 = Store('loja da avó')\n",
    "store2.add_item('bolo', 5)\n",
    "store2.add_item('torta', 7)\n",
    "store2.stock_price()"
   ]
  },
  {
   "cell_type": "markdown",
   "id": "51fa3c16",
   "metadata": {},
   "source": [
    "## Métodos classmethod e staticmethod\n",
    "\n",
    "* Métodos de instância: mais usados; representam comportamentos/ações que usam dados de um objeto. É preciso ter um objeto. Pode alterar valores do objeto."
   ]
  },
  {
   "cell_type": "code",
   "execution_count": 46,
   "id": "194f7c1f",
   "metadata": {},
   "outputs": [],
   "source": [
    "class ClassTest:\n",
    "    def instance_method(self):\n",
    "        print(f'Chamou o método instance_method de {self}')"
   ]
  },
  {
   "cell_type": "code",
   "execution_count": 47,
   "id": "1d3597e1",
   "metadata": {},
   "outputs": [
    {
     "name": "stdout",
     "output_type": "stream",
     "text": [
      "Chamou o método instance_method de <__main__.ClassTest object at 0x000001C5D45128E0>\n"
     ]
    }
   ],
   "source": [
    "test = ClassTest()\n",
    "test.instance_method()"
   ]
  },
  {
   "cell_type": "markdown",
   "id": "17d91b7d",
   "metadata": {},
   "source": [
    "* Métodos de classe são usados como 'fábricas' (factories). Não é preciso ter um objeto"
   ]
  },
  {
   "cell_type": "code",
   "execution_count": 48,
   "id": "7948ba62",
   "metadata": {},
   "outputs": [
    {
     "name": "stdout",
     "output_type": "stream",
     "text": [
      "Chamou class_method de <class '__main__.ClassTest'>\n"
     ]
    }
   ],
   "source": [
    "class ClassTest:\n",
    "    def instance_method(self):\n",
    "        print(f'Chamou o método instance_method de {self}')\n",
    "        \n",
    "    @classmethod\n",
    "    def class_method(cls): \n",
    "        print(f'Chamou class_method de {cls}')\n",
    "        \n",
    "ClassTest.class_method()"
   ]
  },
  {
   "cell_type": "markdown",
   "id": "73d7d6f5",
   "metadata": {},
   "source": [
    "* Método static: são usados para organização de código"
   ]
  },
  {
   "cell_type": "code",
   "execution_count": 49,
   "id": "ca676a05",
   "metadata": {},
   "outputs": [
    {
     "name": "stdout",
     "output_type": "stream",
     "text": [
      "Chamou static_method. Não temos informação de objeto ou classe\n"
     ]
    }
   ],
   "source": [
    "class ClassTest:\n",
    "    def instance_method(self):\n",
    "        print(f'Chamou o método instance_method de {self}')\n",
    "        \n",
    "    @classmethod\n",
    "    def class_method(cls): \n",
    "        print(f'Chamou class_method de {cls}')\n",
    "        \n",
    "    @staticmethod\n",
    "    def static_method():\n",
    "        print(f'Chamou static_method. Não temos informação de objeto ou classe')\n",
    "        \n",
    "ClassTest.static_method()"
   ]
  },
  {
   "cell_type": "code",
   "execution_count": 53,
   "id": "0ba9e795",
   "metadata": {},
   "outputs": [],
   "source": [
    "# exemplo factory\n",
    "\n",
    "class Book:\n",
    "    TYPES = (\"hardcover\", \"paperback\") # classes podem ter variáveis além dos métodos e atributos\n",
    "    \n",
    "    def __init__(self, name, book_type, weight):\n",
    "        self.name = name\n",
    "        self.book_type = book_type\n",
    "        self.weight = weight\n",
    "        \n",
    "    def __repr__(self):\n",
    "        return f'<Book {self.name}, {self.book_type}, {self.weight}>'\n"
   ]
  },
  {
   "cell_type": "code",
   "execution_count": 54,
   "id": "91262c7d",
   "metadata": {},
   "outputs": [],
   "source": [
    "book = Book(\"Harry Potter\", \"hardcover\", 1500)"
   ]
  },
  {
   "cell_type": "code",
   "execution_count": 55,
   "id": "0db70cff",
   "metadata": {},
   "outputs": [
    {
     "name": "stdout",
     "output_type": "stream",
     "text": [
      "<Book Harry Potter, hardcover, 1500>\n"
     ]
    }
   ],
   "source": [
    "print(book)"
   ]
  },
  {
   "cell_type": "code",
   "execution_count": 56,
   "id": "a34d479c",
   "metadata": {},
   "outputs": [],
   "source": [
    "class Book:\n",
    "    TYPES = (\"hardcover\", \"paperback\") # classes podem ter variáveis além dos métodos e atributos\n",
    "    \n",
    "    def __init__(self, name, book_type, weight):\n",
    "        self.name = name\n",
    "        self.book_type = book_type\n",
    "        self.weight = weight\n",
    "        \n",
    "    def __repr__(self):\n",
    "        return f'<Book {self.name}, {self.book_type}, {self.weight}>'\n",
    "    \n",
    "    @classmethod\n",
    "    def hardcover(cls, name, page_weight):\n",
    "        return Book(name, Book.TYPES[0], page_weight + 100)\n",
    "    \n",
    "    @classmethod\n",
    "    def paperback(cls, name, page_weight):\n",
    "        return Book(name, Book.TYPES[1], page_weight)\n"
   ]
  },
  {
   "cell_type": "code",
   "execution_count": 57,
   "id": "c81c42e6",
   "metadata": {},
   "outputs": [],
   "source": [
    "book = Book.hardcover(\"Harry Potter\", 1500)"
   ]
  },
  {
   "cell_type": "code",
   "execution_count": 58,
   "id": "bf19dfe5",
   "metadata": {},
   "outputs": [
    {
     "name": "stdout",
     "output_type": "stream",
     "text": [
      "<Book Harry Potter, hardcover, 1600>\n"
     ]
    }
   ],
   "source": [
    "print(book)"
   ]
  },
  {
   "cell_type": "code",
   "execution_count": 59,
   "id": "efcde506",
   "metadata": {},
   "outputs": [],
   "source": [
    "light = Book.paperback(\"Python 101\", 500)"
   ]
  },
  {
   "cell_type": "code",
   "execution_count": 60,
   "id": "ba68585d",
   "metadata": {},
   "outputs": [
    {
     "name": "stdout",
     "output_type": "stream",
     "text": [
      "<Book Python 101, paperback, 500>\n"
     ]
    }
   ],
   "source": [
    "print(light)"
   ]
  },
  {
   "cell_type": "code",
   "execution_count": 61,
   "id": "90de4ae7",
   "metadata": {},
   "outputs": [],
   "source": [
    "class Book:\n",
    "    TYPES = (\"hardcover\", \"paperback\") # classes podem ter variáveis além dos métodos e atributos\n",
    "    \n",
    "    def __init__(self, name, book_type, weight):\n",
    "        self.name = name\n",
    "        self.book_type = book_type\n",
    "        self.weight = weight\n",
    "        \n",
    "    def __repr__(self):\n",
    "        return f'<Book {self.name}, {self.book_type}, {self.weight}>'\n",
    "    \n",
    "    @classmethod\n",
    "    def hardcover(cls, name, page_weight):\n",
    "        return cls(name, cls.TYPES[0], page_weight + 100)\n",
    "    \n",
    "    @classmethod\n",
    "    def paperback(cls, name, page_weight):\n",
    "        return cls(name, cls.TYPES[1], page_weight)\n"
   ]
  },
  {
   "cell_type": "markdown",
   "id": "82e737c1",
   "metadata": {},
   "source": [
    "## Exercício 2\n",
    "\n",
    "Complete a implementação dos métodos seguintes:\n",
    "\n",
    "1. O método ```franchise```, que recebe uma loja como argumento. Deve retornar um novo objeto ```Store```, com o nome igual ao do argumento + ```\" - franchise\"```\n",
    "2. O método ```store_details```, que também recebe como argumento uma loja (store). Deverá retornar uma string representando o argumento.\n",
    "\n",
    "\n",
    "Alguns exemplos:\n",
    "```Python\n",
    "store = Store(\"Test\")\n",
    "store2 = Store(\"Amazon\")\n",
    "store2.add_item(\"Keyboard\", 160)\n",
    "\n",
    "Store.franchise(store) # retorna a Store com o nome \"Test - franchise\"\n",
    "Store.franchise(store2) # retorna a Store com o nome \"Amazon - franchise\"\n",
    "\n",
    "Store.details(store) # retorna \"Test, total stock price: 0\"\n",
    "Store.details(store2) # retorna \"Amazon, total stock price: 160\"\n",
    "```"
   ]
  }
 ],
 "metadata": {
  "kernelspec": {
   "display_name": "Python 3",
   "language": "python",
   "name": "python3"
  },
  "language_info": {
   "codemirror_mode": {
    "name": "ipython",
    "version": 3
   },
   "file_extension": ".py",
   "mimetype": "text/x-python",
   "name": "python",
   "nbconvert_exporter": "python",
   "pygments_lexer": "ipython3",
   "version": "3.8.8"
  }
 },
 "nbformat": 4,
 "nbformat_minor": 5
}
