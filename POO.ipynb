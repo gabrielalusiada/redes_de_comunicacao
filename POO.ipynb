{
 "cells": [
  {
   "cell_type": "code",
   "execution_count": 1,
   "id": "9c4745a7",
   "metadata": {},
   "outputs": [],
   "source": [
    "student = {\"name\": \"Bob\", \"grades\": (89, 90, 73, 90)}"
   ]
  },
  {
   "cell_type": "code",
   "execution_count": 2,
   "id": "cf614440",
   "metadata": {},
   "outputs": [],
   "source": [
    "def average(sequence):\n",
    "    return sum(sequence)/len(sequence)"
   ]
  },
  {
   "cell_type": "code",
   "execution_count": 4,
   "id": "578b919e",
   "metadata": {},
   "outputs": [
    {
     "name": "stdout",
     "output_type": "stream",
     "text": [
      "85.5\n"
     ]
    }
   ],
   "source": [
    "print(average(student['grades']))"
   ]
  },
  {
   "cell_type": "code",
   "execution_count": null,
   "id": "c4cfbbc9",
   "metadata": {},
   "outputs": [],
   "source": [
    "# E se pudessemos ter algo\n",
    "print(student.average())"
   ]
  },
  {
   "cell_type": "code",
   "execution_count": 5,
   "id": "548f0a3b",
   "metadata": {},
   "outputs": [],
   "source": [
    "# E se pudessemos ter algo\n",
    "# print(student.average())\n",
    "\n",
    "class Student:\n",
    "    def __init__(self):\n",
    "        self.name = \"Rolf\"\n",
    "        self.grades = (89, 90, 93, 78, 90)\n",
    "        \n",
    "    def average(self):\n",
    "        return sum(self.grades)/len(self.grades)"
   ]
  },
  {
   "cell_type": "code",
   "execution_count": 6,
   "id": "3afbf0f9",
   "metadata": {},
   "outputs": [
    {
     "name": "stdout",
     "output_type": "stream",
     "text": [
      "<__main__.Student object at 0x000001C5D35F7DC0>\n"
     ]
    }
   ],
   "source": [
    "student = Student()\n",
    "print(student)"
   ]
  },
  {
   "cell_type": "code",
   "execution_count": 9,
   "id": "7fe70d2d",
   "metadata": {},
   "outputs": [
    {
     "data": {
      "text/plain": [
       "('Rolf', (89, 90, 93, 78, 90))"
      ]
     },
     "execution_count": 9,
     "metadata": {},
     "output_type": "execute_result"
    }
   ],
   "source": [
    "student.name, student.grades"
   ]
  },
  {
   "cell_type": "code",
   "execution_count": 7,
   "id": "8efd6d23",
   "metadata": {},
   "outputs": [
    {
     "name": "stdout",
     "output_type": "stream",
     "text": [
      "88.0\n"
     ]
    }
   ],
   "source": [
    "print(student.average())"
   ]
  },
  {
   "cell_type": "code",
   "execution_count": 10,
   "id": "c70fcc2c",
   "metadata": {},
   "outputs": [],
   "source": [
    "class Student:\n",
    "    def __init__(self, name, grades):\n",
    "        self.name = name\n",
    "        self.grades = grades\n",
    "        \n",
    "    def average(self):\n",
    "        return sum(self.grades)/len(self.grades)"
   ]
  },
  {
   "cell_type": "code",
   "execution_count": 11,
   "id": "2d10d4a5",
   "metadata": {},
   "outputs": [
    {
     "data": {
      "text/plain": [
       "78.6"
      ]
     },
     "execution_count": 11,
     "metadata": {},
     "output_type": "execute_result"
    }
   ],
   "source": [
    "student = Student(\"Bob\", (36, 67, 90, 100, 100))\n",
    "student.average()"
   ]
  },
  {
   "cell_type": "code",
   "execution_count": 13,
   "id": "6f88d79c",
   "metadata": {},
   "outputs": [
    {
     "data": {
      "text/plain": [
       "<__main__.Student at 0x1c5d36405b0>"
      ]
     },
     "execution_count": 13,
     "metadata": {},
     "output_type": "execute_result"
    }
   ],
   "source": [
    "student"
   ]
  },
  {
   "cell_type": "code",
   "execution_count": 12,
   "id": "6a2a0271",
   "metadata": {},
   "outputs": [
    {
     "data": {
      "text/plain": [
       "88.0"
      ]
     },
     "execution_count": 12,
     "metadata": {},
     "output_type": "execute_result"
    }
   ],
   "source": [
    "student_2 = Student(\"Rolf\", (89, 90, 93, 78, 90))\n",
    "student_2.average()"
   ]
  },
  {
   "cell_type": "code",
   "execution_count": 14,
   "id": "d2ffa262",
   "metadata": {},
   "outputs": [
    {
     "data": {
      "text/plain": [
       "<__main__.Student at 0x1c5d35f77c0>"
      ]
     },
     "execution_count": 14,
     "metadata": {},
     "output_type": "execute_result"
    }
   ],
   "source": [
    "student_2"
   ]
  },
  {
   "cell_type": "markdown",
   "id": "6a8be834",
   "metadata": {},
   "source": [
    "## Funções x Métodos\n",
    "\n",
    "Uma função que é declarada dentro de uma classe é chamada de método. Assim, métodos são funções, mas nem todas as funções são métodos.\n",
    "\n",
    "**Funções**\n",
    "\n",
    "```Python\n",
    "    def average(sequence):\n",
    "        return sum(sequence)/len(sequence)\n",
    "```\n",
    "\n",
    "**Método**\n",
    "```Python\n",
    "    class Student:\n",
    "        def __init__(self, name, grades):\n",
    "            self.name = name\n",
    "            self.grades = grades\n",
    "\n",
    "        def average(self):\n",
    "            return sum(self.grades)/len(self.grades)\n",
    "```"
   ]
  },
  {
   "cell_type": "markdown",
   "id": "18522692",
   "metadata": {},
   "source": [
    "## Métodos Mágicos"
   ]
  },
  {
   "cell_type": "code",
   "execution_count": 15,
   "id": "847c8775",
   "metadata": {},
   "outputs": [],
   "source": [
    "class Person:\n",
    "    def __init__(self, name, age):\n",
    "        self.name = name\n",
    "        self.age = age\n",
    "        "
   ]
  },
  {
   "cell_type": "code",
   "execution_count": 16,
   "id": "67bf23f0",
   "metadata": {},
   "outputs": [],
   "source": [
    "bob = Person(\"Bob\", 25)"
   ]
  },
  {
   "cell_type": "code",
   "execution_count": 17,
   "id": "ca8898dc",
   "metadata": {},
   "outputs": [
    {
     "data": {
      "text/plain": [
       "<__main__.Person at 0x1c5d35f7fa0>"
      ]
     },
     "execution_count": 17,
     "metadata": {},
     "output_type": "execute_result"
    }
   ],
   "source": [
    "bob"
   ]
  },
  {
   "cell_type": "code",
   "execution_count": 18,
   "id": "fdd5e575",
   "metadata": {},
   "outputs": [
    {
     "name": "stdout",
     "output_type": "stream",
     "text": [
      "Person Bob, 25 anos de idade\n"
     ]
    }
   ],
   "source": [
    "print(f'Person {bob.name}, {bob.age} anos de idade')"
   ]
  },
  {
   "cell_type": "code",
   "execution_count": 19,
   "id": "e45de24f",
   "metadata": {},
   "outputs": [],
   "source": [
    "class Person:\n",
    "    def __init__(self, name, age):\n",
    "        self.name = name\n",
    "        self.age = age\n",
    "    \n",
    "    def __str__(self):\n",
    "        return f'Person {self.name}, {self.age} anos de idade'"
   ]
  },
  {
   "cell_type": "code",
   "execution_count": 20,
   "id": "d8e638db",
   "metadata": {},
   "outputs": [
    {
     "name": "stdout",
     "output_type": "stream",
     "text": [
      "Person Bob, 25 anos de idade\n"
     ]
    }
   ],
   "source": [
    "bob = Person(\"Bob\", 25)\n",
    "print(bob)"
   ]
  },
  {
   "cell_type": "code",
   "execution_count": 23,
   "id": "183992d9",
   "metadata": {},
   "outputs": [],
   "source": [
    "class Person:\n",
    "    def __init__(self, name, age):\n",
    "        self.name = name\n",
    "        self.age = age\n",
    "    \n",
    "    def __repr__(self):\n",
    "        return f'<Person({self.name}, {self.age})>'"
   ]
  },
  {
   "cell_type": "code",
   "execution_count": 24,
   "id": "0cbb7912",
   "metadata": {},
   "outputs": [
    {
     "name": "stdout",
     "output_type": "stream",
     "text": [
      "<Person(Bob, 25)>\n"
     ]
    }
   ],
   "source": [
    "bob = Person(\"Bob\", 25)\n",
    "print(bob)"
   ]
  },
  {
   "cell_type": "code",
   "execution_count": 25,
   "id": "7135a425",
   "metadata": {},
   "outputs": [],
   "source": [
    "class Person:\n",
    "    def __init__(self, name, age):\n",
    "        self.name = name\n",
    "        self.age = age\n",
    "        \n",
    "    def __repr__(self):\n",
    "        return f'<Person({self.name}, {self.age})>'\n",
    "    \n",
    "    def __str__(self):\n",
    "        return f'Person {self.name}, {self.age} anos de idade'"
   ]
  },
  {
   "cell_type": "code",
   "execution_count": 26,
   "id": "899b2246",
   "metadata": {},
   "outputs": [
    {
     "name": "stdout",
     "output_type": "stream",
     "text": [
      "Person Bob, 25 anos de idade\n"
     ]
    }
   ],
   "source": [
    "bob = Person(\"Bob\", 25)\n",
    "print(bob)"
   ]
  },
  {
   "cell_type": "code",
   "execution_count": 27,
   "id": "3a310338",
   "metadata": {},
   "outputs": [
    {
     "data": {
      "text/plain": [
       "'<Person(Bob, 25)>'"
      ]
     },
     "execution_count": 27,
     "metadata": {},
     "output_type": "execute_result"
    }
   ],
   "source": [
    "repr(bob)"
   ]
  },
  {
   "cell_type": "code",
   "execution_count": 28,
   "id": "2ccd2fec",
   "metadata": {},
   "outputs": [
    {
     "data": {
      "text/plain": [
       "'Person Bob, 25 anos de idade'"
      ]
     },
     "execution_count": 28,
     "metadata": {},
     "output_type": "execute_result"
    }
   ],
   "source": [
    "str(bob)"
   ]
  },
  {
   "cell_type": "code",
   "execution_count": 31,
   "id": "c1ca1e52",
   "metadata": {},
   "outputs": [
    {
     "name": "stdout",
     "output_type": "stream",
     "text": [
      "(1/2)\n",
      "Fraction (1,2)\n"
     ]
    }
   ],
   "source": [
    "class Fraction:\n",
    "    def __init__(self, num, den):\n",
    "        self.num = num\n",
    "        self.den = den\n",
    "        \n",
    "    def __str__(self):\n",
    "        return f'({self.num}/{self.den})'\n",
    "    \n",
    "    def __repr__(self):\n",
    "        return 'Fraction (' + str(self.num) + ',' + str(self.den) + ')'\n",
    "    \n",
    "f = Fraction(1,2)\n",
    "print(str(f))\n",
    "print(repr(f))"
   ]
  },
  {
   "cell_type": "markdown",
   "id": "3d30c68f",
   "metadata": {},
   "source": [
    "## Exercício 1 - 15 minutos\n",
    "\n",
    "Complete a implementação dos três métodos da classe:\n",
    "\n",
    "1. O método ```__init__```, que deve receber um argumento (```name```). Ele deve iniciar ```self.name``` para o valor do argumento e ```self.item```para ser uma lista vazia.\n",
    "2. O método ```add_item```, que deve acrescentar um dicionário representando um item para a propriedade ```items```. O dicionário deve ter como chaves ```name``` e ```price```\n",
    "3. O método ```stock_price```, que deve adicionar o preço de cada item dentro de ```self.items``` para obter o total, que deverá ser retornado.\n"
   ]
  },
  {
   "cell_type": "code",
   "execution_count": 39,
   "id": "9f3c128f",
   "metadata": {},
   "outputs": [],
   "source": [
    "class Store:\n",
    "    def __init__(self, name):\n",
    "        # Você vai precisar de 'name' como um argumento para este método\n",
    "        # Inicialize self.name para o valor e self.items como uma lista vazia\n",
    "        self.name = name\n",
    "        self.items = []\n",
    "    \n",
    "    def add_item(self, name, price):\n",
    "        # Crie um dicionario com keys name e price, e adicione a self.items\n",
    "        item = {'name': name, 'price': price}\n",
    "        self.items.append(item)\n",
    "        \n",
    "    def stock_price(self):\n",
    "        # some todos os preços em items e retorne o valor total\n",
    "        total = 0\n",
    "        for item in self.items:\n",
    "            total += item['price']\n",
    "        return total\n",
    "        "
   ]
  },
  {
   "cell_type": "code",
   "execution_count": 40,
   "id": "1a5ec149",
   "metadata": {},
   "outputs": [],
   "source": [
    "store = Store('loja da avó')"
   ]
  },
  {
   "cell_type": "code",
   "execution_count": 41,
   "id": "7ff1e17d",
   "metadata": {},
   "outputs": [],
   "source": [
    "store.add_item('bolo', 5)"
   ]
  },
  {
   "cell_type": "code",
   "execution_count": 42,
   "id": "6e1d944e",
   "metadata": {},
   "outputs": [],
   "source": [
    "store.add_item('torta', 7)"
   ]
  },
  {
   "cell_type": "code",
   "execution_count": 43,
   "id": "2c280ad4",
   "metadata": {},
   "outputs": [
    {
     "data": {
      "text/plain": [
       "12"
      ]
     },
     "execution_count": 43,
     "metadata": {},
     "output_type": "execute_result"
    }
   ],
   "source": [
    "store.stock_price()"
   ]
  },
  {
   "cell_type": "code",
   "execution_count": 44,
   "id": "f5d6922c",
   "metadata": {},
   "outputs": [],
   "source": [
    "class Store:\n",
    "    def __init__(self, name):\n",
    "        # Você vai precisar de 'name' como um argumento para este método\n",
    "        # Inicialize self.name para o valor e self.items como uma lista vazia\n",
    "        self.name = name\n",
    "        self.items = []\n",
    "    \n",
    "    def add_item(self, name, price):\n",
    "        # Crie um dicionario com keys name e price, e adicione a self.items\n",
    "        item = {'name': name, 'price': price}\n",
    "        self.items.append(item)\n",
    "        \n",
    "    def stock_price(self):\n",
    "        # some todos os preços em items e retorne o valor total\n",
    "        return sum([item['price'] for item in self.items])\n",
    "        "
   ]
  },
  {
   "cell_type": "code",
   "execution_count": 45,
   "id": "c1f2b75d",
   "metadata": {},
   "outputs": [
    {
     "data": {
      "text/plain": [
       "12"
      ]
     },
     "execution_count": 45,
     "metadata": {},
     "output_type": "execute_result"
    }
   ],
   "source": [
    "store2 = Store('loja da avó')\n",
    "store2.add_item('bolo', 5)\n",
    "store2.add_item('torta', 7)\n",
    "store2.stock_price()"
   ]
  },
  {
   "cell_type": "markdown",
   "id": "64c487df",
   "metadata": {},
   "source": [
    "## Métodos classmethod e staticmethod\n",
    "\n",
    "* Métodos de instância: mais usados; representam comportamentos/ações que usam dados de um objeto. É preciso ter um objeto. Pode alterar valores do objeto."
   ]
  },
  {
   "cell_type": "code",
   "execution_count": 46,
   "id": "f61955e1",
   "metadata": {},
   "outputs": [],
   "source": [
    "class ClassTest:\n",
    "    def instance_method(self):\n",
    "        print(f'Chamou o método instance_method de {self}')"
   ]
  },
  {
   "cell_type": "code",
   "execution_count": 47,
   "id": "e37af2f3",
   "metadata": {},
   "outputs": [
    {
     "name": "stdout",
     "output_type": "stream",
     "text": [
      "Chamou o método instance_method de <__main__.ClassTest object at 0x000001C5D45128E0>\n"
     ]
    }
   ],
   "source": [
    "test = ClassTest()\n",
    "test.instance_method()"
   ]
  },
  {
   "cell_type": "markdown",
   "id": "869d5c9b",
   "metadata": {},
   "source": [
    "* Métodos de classe são usados como 'fábricas' (factories). Não é preciso ter um objeto"
   ]
  },
  {
   "cell_type": "code",
   "execution_count": 48,
   "id": "7b3797a3",
   "metadata": {},
   "outputs": [
    {
     "name": "stdout",
     "output_type": "stream",
     "text": [
      "Chamou class_method de <class '__main__.ClassTest'>\n"
     ]
    }
   ],
   "source": [
    "class ClassTest:\n",
    "    def instance_method(self):\n",
    "        print(f'Chamou o método instance_method de {self}')\n",
    "        \n",
    "    @classmethod\n",
    "    def class_method(cls): \n",
    "        print(f'Chamou class_method de {cls}')\n",
    "        \n",
    "ClassTest.class_method()"
   ]
  },
  {
   "cell_type": "markdown",
   "id": "660560c3",
   "metadata": {},
   "source": [
    "* Método static: são usados para organização de código"
   ]
  },
  {
   "cell_type": "code",
   "execution_count": 49,
   "id": "921b91ee",
   "metadata": {},
   "outputs": [
    {
     "name": "stdout",
     "output_type": "stream",
     "text": [
      "Chamou static_method. Não temos informação de objeto ou classe\n"
     ]
    }
   ],
   "source": [
    "class ClassTest:\n",
    "    def instance_method(self):\n",
    "        print(f'Chamou o método instance_method de {self}')\n",
    "        \n",
    "    @classmethod\n",
    "    def class_method(cls): \n",
    "        print(f'Chamou class_method de {cls}')\n",
    "        \n",
    "    @staticmethod\n",
    "    def static_method():\n",
    "        print(f'Chamou static_method. Não temos informação de objeto ou classe')\n",
    "        \n",
    "ClassTest.static_method()"
   ]
  },
  {
   "cell_type": "code",
   "execution_count": 53,
   "id": "1e6cd086",
   "metadata": {},
   "outputs": [],
   "source": [
    "# exemplo factory\n",
    "\n",
    "class Book:\n",
    "    TYPES = (\"hardcover\", \"paperback\") # classes podem ter variáveis além dos métodos e atributos\n",
    "    \n",
    "    def __init__(self, name, book_type, weight):\n",
    "        self.name = name\n",
    "        self.book_type = book_type\n",
    "        self.weight = weight\n",
    "        \n",
    "    def __repr__(self):\n",
    "        return f'<Book {self.name}, {self.book_type}, {self.weight}>'\n"
   ]
  },
  {
   "cell_type": "code",
   "execution_count": 54,
   "id": "2f8bc244",
   "metadata": {},
   "outputs": [],
   "source": [
    "book = Book(\"Harry Potter\", \"hardcover\", 1500)"
   ]
  },
  {
   "cell_type": "code",
   "execution_count": 55,
   "id": "083baf32",
   "metadata": {},
   "outputs": [
    {
     "name": "stdout",
     "output_type": "stream",
     "text": [
      "<Book Harry Potter, hardcover, 1500>\n"
     ]
    }
   ],
   "source": [
    "print(book)"
   ]
  },
  {
   "cell_type": "code",
   "execution_count": 56,
   "id": "c70e9985",
   "metadata": {},
   "outputs": [],
   "source": [
    "class Book:\n",
    "    TYPES = (\"hardcover\", \"paperback\") # classes podem ter variáveis além dos métodos e atributos\n",
    "    \n",
    "    def __init__(self, name, book_type, weight):\n",
    "        self.name = name\n",
    "        self.book_type = book_type\n",
    "        self.weight = weight\n",
    "        \n",
    "    def __repr__(self):\n",
    "        return f'<Book {self.name}, {self.book_type}, {self.weight}>'\n",
    "    \n",
    "    @classmethod\n",
    "    def hardcover(cls, name, page_weight):\n",
    "        return Book(name, Book.TYPES[0], page_weight + 100)\n",
    "    \n",
    "    @classmethod\n",
    "    def paperback(cls, name, page_weight):\n",
    "        return Book(name, Book.TYPES[1], page_weight)\n"
   ]
  },
  {
   "cell_type": "code",
   "execution_count": 57,
   "id": "0fad6a29",
   "metadata": {},
   "outputs": [],
   "source": [
    "book = Book.hardcover(\"Harry Potter\", 1500)"
   ]
  },
  {
   "cell_type": "code",
   "execution_count": 58,
   "id": "c928c034",
   "metadata": {},
   "outputs": [
    {
     "name": "stdout",
     "output_type": "stream",
     "text": [
      "<Book Harry Potter, hardcover, 1600>\n"
     ]
    }
   ],
   "source": [
    "print(book)"
   ]
  },
  {
   "cell_type": "code",
   "execution_count": 59,
   "id": "9d87cb67",
   "metadata": {},
   "outputs": [],
   "source": [
    "light = Book.paperback(\"Python 101\", 500)"
   ]
  },
  {
   "cell_type": "code",
   "execution_count": 60,
   "id": "08f0311e",
   "metadata": {},
   "outputs": [
    {
     "name": "stdout",
     "output_type": "stream",
     "text": [
      "<Book Python 101, paperback, 500>\n"
     ]
    }
   ],
   "source": [
    "print(light)"
   ]
  },
  {
   "cell_type": "code",
   "execution_count": 61,
   "id": "a25b2422",
   "metadata": {},
   "outputs": [],
   "source": [
    "class Book:\n",
    "    TYPES = (\"hardcover\", \"paperback\") # classes podem ter variáveis além dos métodos e atributos\n",
    "    \n",
    "    def __init__(self, name, book_type, weight):\n",
    "        self.name = name\n",
    "        self.book_type = book_type\n",
    "        self.weight = weight\n",
    "        \n",
    "    def __repr__(self):\n",
    "        return f'<Book {self.name}, {self.book_type}, {self.weight}>'\n",
    "    \n",
    "    @classmethod\n",
    "    def hardcover(cls, name, page_weight):\n",
    "        return cls(name, cls.TYPES[0], page_weight + 100)\n",
    "    \n",
    "    @classmethod\n",
    "    def paperback(cls, name, page_weight):\n",
    "        return cls(name, cls.TYPES[1], page_weight)\n"
   ]
  },
  {
   "cell_type": "markdown",
   "id": "7cf3af5b",
   "metadata": {},
   "source": [
    "## Exercício 2\n",
    "\n",
    "Complete a implementação dos métodos seguintes:\n",
    "\n",
    "1. O método ```franchise```, que recebe uma loja como argumento. Deve retornar um novo objeto ```Store```, com o nome igual ao do argumento + ```\" - franchise\"```\n",
    "2. O método ```store_details```, que também recebe como argumento uma loja (store). Deverá retornar uma string representando o argumento.\n",
    "\n",
    "\n",
    "Alguns exemplos:\n",
    "```Python\n",
    "store = Store(\"Test\")\n",
    "store2 = Store(\"Amazon\")\n",
    "store2.add_item(\"Keyboard\", 160)\n",
    "\n",
    "Store.franchise(store) # retorna a Store com o nome \"Test - franchise\"\n",
    "Store.franchise(store2) # retorna a Store com o nome \"Amazon - franchise\"\n",
    "\n",
    "Store.details(store) # retorna \"Test, total stock price: 0\"\n",
    "Store.details(store2) # retorna \"Amazon, total stock price: 160\"\n",
    "```"
   ]
  },
  {
   "cell_type": "code",
   "execution_count": 64,
   "id": "bb729be8",
   "metadata": {},
   "outputs": [],
   "source": [
    "class Store:\n",
    "    def __init__(self, name):\n",
    "        self.name = name\n",
    "        self.items = []\n",
    "        \n",
    "    def add_item(self, name, price):\n",
    "        self.items.append({'name': name, 'price': price})\n",
    "        \n",
    "    def stock_price(self):\n",
    "        return sum([item['price'] for item in self.items])\n",
    "    \n",
    "    @classmethod\n",
    "    def franchise(cls, store):\n",
    "        return cls(store.name + \" - franchise\")\n",
    "        \n",
    "    @staticmethod\n",
    "    def details(store):\n",
    "        return '{}, total stock price: {}'.format(store.name, int(store.stock_price()))"
   ]
  },
  {
   "cell_type": "code",
   "execution_count": 67,
   "id": "3e910ac0",
   "metadata": {},
   "outputs": [
    {
     "name": "stdout",
     "output_type": "stream",
     "text": [
      "Test - franchise\n",
      "Amazon - franchise\n",
      "Test, total stock price: 0\n",
      "Amazon, total stock price: 160\n"
     ]
    }
   ],
   "source": [
    "store = Store(\"Test\")\n",
    "store2 = Store(\"Amazon\")\n",
    "store2.add_item(\"Keyboard\", 160)\n",
    "\n",
    "print(Store.franchise(store).name) # retorna a Store com o nome \"Test - franchise\"\n",
    "print(Store.franchise(store2).name) # retorna a Store com o nome \"Amazon - franchise\"\n",
    "\n",
    "print(Store.details(store)) # retorna \"Test, total stock price: 0\"\n",
    "print(Store.details(store2)) # retorna \"Amazon, total stock price: 160\""
   ]
  },
  {
   "cell_type": "markdown",
   "id": "30122e46",
   "metadata": {},
   "source": [
    "### Herança\n",
    "* permite que uma classe receba métodos e propriedades de outra classe\n"
   ]
  },
  {
   "cell_type": "code",
   "execution_count": 68,
   "id": "be05e4b3",
   "metadata": {},
   "outputs": [],
   "source": [
    "class Device:\n",
    "    def __init__(self, name, connected_by):\n",
    "        self.name = name\n",
    "        self.connected_by = connected_by\n",
    "        self.connected = True\n",
    "        \n",
    "    def __str__(self):\n",
    "        return f'Device {self.name!r} ({self.connected_by})'\n",
    "    \n",
    "    def disconnect(self):\n",
    "        self.connected = False"
   ]
  },
  {
   "cell_type": "code",
   "execution_count": 69,
   "id": "2763affb",
   "metadata": {},
   "outputs": [
    {
     "name": "stdout",
     "output_type": "stream",
     "text": [
      "Device 'Printer' (USB)\n"
     ]
    }
   ],
   "source": [
    "printer = Device(\"Printer\", \"USB\")\n",
    "print(printer)"
   ]
  },
  {
   "cell_type": "code",
   "execution_count": 70,
   "id": "f8e6ef32",
   "metadata": {},
   "outputs": [],
   "source": [
    "printer.disconnect()"
   ]
  },
  {
   "cell_type": "code",
   "execution_count": 72,
   "id": "4beda4d5",
   "metadata": {},
   "outputs": [
    {
     "name": "stdout",
     "output_type": "stream",
     "text": [
      "Device 'Printer' (USB)\n"
     ]
    }
   ],
   "source": [
    "print(printer)"
   ]
  },
  {
   "cell_type": "markdown",
   "id": "9eaa4c4b",
   "metadata": {},
   "source": [
    "E se eu quiser mostrar o que a impressora está imprimindo?"
   ]
  },
  {
   "cell_type": "code",
   "execution_count": null,
   "id": "156c532f",
   "metadata": {},
   "outputs": [],
   "source": [
    "class Device:\n",
    "    def __init__(self, name, connected_by):\n",
    "        self.name = name\n",
    "        self.connected_by = connected_by\n",
    "        self.connected = True\n",
    "        \n",
    "    def __str__(self):\n",
    "        return f'Device {self.name!r} ({self.connected_by})'\n",
    "    \n",
    "    def disconnect(self):\n",
    "        self.connected = False"
   ]
  },
  {
   "cell_type": "code",
   "execution_count": 73,
   "id": "13d7cb1a",
   "metadata": {},
   "outputs": [],
   "source": [
    "class Printer(Device):\n",
    "    def __init__(self, name, connected_by, capacity):\n",
    "        super().__init__(name, connected_by)\n",
    "        self.capacity = capacity # capacidade máxima\n",
    "        self.remaining_pages = capacity # capacidade atual\n",
    "        \n",
    "    def __str__(self):\n",
    "        return f\"{super().__str__()} ({self.remaining_pages} páginas restantes)\"\n",
    "    \n",
    "    def print(self, pages):\n",
    "        if not self.connected:\n",
    "            print(\"Sua impressora não está conectada\")\n",
    "            return\n",
    "        print(f\"Imprimindo {pages} páginas.\")\n",
    "        self.remaining_pages -= pages \n",
    "    "
   ]
  },
  {
   "cell_type": "code",
   "execution_count": 74,
   "id": "fe812f7f",
   "metadata": {},
   "outputs": [
    {
     "name": "stdout",
     "output_type": "stream",
     "text": [
      "Imprimindo 20 páginas.\n",
      "Device 'Printer' (USB) (480 páginas restantes)\n",
      "Imprimindo 50 páginas.\n",
      "Device 'Printer' (USB) (430 páginas restantes)\n",
      "Sua impressora não está conectada\n"
     ]
    }
   ],
   "source": [
    "printer = Printer(\"Printer\", \"USB\", 500)\n",
    "printer.print(20)\n",
    "print(printer)\n",
    "\n",
    "printer.print(50)\n",
    "print(printer)\n",
    "\n",
    "printer.disconnect()\n",
    "printer.print(30)"
   ]
  },
  {
   "cell_type": "markdown",
   "id": "0b9bfb8f",
   "metadata": {},
   "source": [
    "## Composição\n",
    "* Construir classes que usam outras classes"
   ]
  },
  {
   "cell_type": "code",
   "execution_count": 75,
   "id": "4e926f98",
   "metadata": {},
   "outputs": [
    {
     "name": "stdout",
     "output_type": "stream",
     "text": [
      "BookShelf com 300 livros\n"
     ]
    }
   ],
   "source": [
    "class BookShelf:\n",
    "    def __init__(self, quantity):\n",
    "        self.quantity = quantity\n",
    "        \n",
    "    def __str__(self):\n",
    "        return f\"BookShelf com {self.quantity} livros\"\n",
    "    \n",
    "shelf = BookShelf(300)\n",
    "print(shelf)"
   ]
  },
  {
   "cell_type": "code",
   "execution_count": 76,
   "id": "351357ef",
   "metadata": {},
   "outputs": [
    {
     "name": "stdout",
     "output_type": "stream",
     "text": [
      "BookShelf com 120 livros\n"
     ]
    }
   ],
   "source": [
    "class Book(BookShelf): # faz sentido?\n",
    "    def __init__(self, name, quantity):\n",
    "        super().__init__(quantity)\n",
    "        self.name = name\n",
    "        \n",
    "book = Book(\"Harry Potter\", 120)\n",
    "print(book)"
   ]
  },
  {
   "cell_type": "markdown",
   "id": "ca9d0c03",
   "metadata": {},
   "source": [
    "**Por que não faz sentido?**\n",
    "1. Conceitual: estamos dizendo que um livro é uma estante e algo mais\n",
    "2. Técnico: Você teria que reescrever a classe, os métodos da classe mãe não fazem sentido para a classe filha\n",
    "\n",
    "**Composição**: Bookshelf tem muitos livros"
   ]
  },
  {
   "cell_type": "code",
   "execution_count": 77,
   "id": "1182cc7d",
   "metadata": {},
   "outputs": [],
   "source": [
    "class BookShelf:\n",
    "    def __init__(self, *books):\n",
    "        self.books = books\n",
    "        \n",
    "    def __str__(self):\n",
    "        return f\"BookShelf com {len(self.books)} livros\""
   ]
  },
  {
   "cell_type": "code",
   "execution_count": 78,
   "id": "e1e12c80",
   "metadata": {},
   "outputs": [],
   "source": [
    "class Book(): # faz sentido?\n",
    "    def __init__(self, name):\n",
    "        self.name = name\n",
    "    \n",
    "    def __str__(self):\n",
    "        return f\"Book {self.name}\""
   ]
  },
  {
   "cell_type": "code",
   "execution_count": 79,
   "id": "d1b391d4",
   "metadata": {},
   "outputs": [],
   "source": [
    "book = Book(\"Harry Potter\")\n",
    "book2 = Book(\"Python 101\")\n",
    "\n",
    "shelf = BookShelf(book, book2)"
   ]
  },
  {
   "cell_type": "code",
   "execution_count": 80,
   "id": "cf89774b",
   "metadata": {},
   "outputs": [
    {
     "name": "stdout",
     "output_type": "stream",
     "text": [
      "BookShelf com 2 livros\n"
     ]
    }
   ],
   "source": [
    "print(shelf)"
   ]
  },
  {
   "cell_type": "code",
   "execution_count": 81,
   "id": "82b503d3",
   "metadata": {},
   "outputs": [
    {
     "name": "stdout",
     "output_type": "stream",
     "text": [
      "Book Harry Potter\n"
     ]
    }
   ],
   "source": [
    "print(book)"
   ]
  },
  {
   "cell_type": "code",
   "execution_count": null,
   "id": "b5a869ee",
   "metadata": {},
   "outputs": [],
   "source": []
  }
 ],
 "metadata": {
  "kernelspec": {
   "display_name": "Python 3",
   "language": "python",
   "name": "python3"
  },
  "language_info": {
   "codemirror_mode": {
    "name": "ipython",
    "version": 3
   },
   "file_extension": ".py",
   "mimetype": "text/x-python",
   "name": "python",
   "nbconvert_exporter": "python",
   "pygments_lexer": "ipython3",
   "version": "3.8.8"
  }
 },
 "nbformat": 4,
 "nbformat_minor": 5
}
