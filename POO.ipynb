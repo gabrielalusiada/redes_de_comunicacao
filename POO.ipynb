{
 "cells": [
  {
   "cell_type": "code",
   "execution_count": 1,
   "id": "9c4745a7",
   "metadata": {},
   "outputs": [],
   "source": [
    "student = {\"name\": \"Bob\", \"grades\": (89, 90, 73, 90)}"
   ]
  },
  {
   "cell_type": "code",
   "execution_count": 2,
   "id": "cf614440",
   "metadata": {},
   "outputs": [],
   "source": [
    "def average(sequence):\n",
    "    return sum(sequence)/len(sequence)"
   ]
  },
  {
   "cell_type": "code",
   "execution_count": 4,
   "id": "578b919e",
   "metadata": {},
   "outputs": [
    {
     "name": "stdout",
     "output_type": "stream",
     "text": [
      "85.5\n"
     ]
    }
   ],
   "source": [
    "print(average(student['grades']))"
   ]
  },
  {
   "cell_type": "code",
   "execution_count": null,
   "id": "ef919954",
   "metadata": {},
   "outputs": [],
   "source": [
    "# E se pudessemos ter algo\n",
    "print(student.average())"
   ]
  },
  {
   "cell_type": "code",
   "execution_count": 5,
   "id": "548f0a3b",
   "metadata": {},
   "outputs": [],
   "source": [
    "# E se pudessemos ter algo\n",
    "# print(student.average())\n",
    "\n",
    "class Student:\n",
    "    def __init__(self):\n",
    "        self.name = \"Rolf\"\n",
    "        self.grades = (89, 90, 93, 78, 90)\n",
    "        \n",
    "    def average(self):\n",
    "        return sum(self.grades)/len(self.grades)"
   ]
  },
  {
   "cell_type": "code",
   "execution_count": 6,
   "id": "94853f53",
   "metadata": {},
   "outputs": [
    {
     "name": "stdout",
     "output_type": "stream",
     "text": [
      "<__main__.Student object at 0x000001C5D35F7DC0>\n"
     ]
    }
   ],
   "source": [
    "student = Student()\n",
    "print(student)"
   ]
  },
  {
   "cell_type": "code",
   "execution_count": 9,
   "id": "4ff6cc7e",
   "metadata": {},
   "outputs": [
    {
     "data": {
      "text/plain": [
       "('Rolf', (89, 90, 93, 78, 90))"
      ]
     },
     "execution_count": 9,
     "metadata": {},
     "output_type": "execute_result"
    }
   ],
   "source": [
    "student.name, student.grades"
   ]
  },
  {
   "cell_type": "code",
   "execution_count": 7,
   "id": "8efd6d23",
   "metadata": {},
   "outputs": [
    {
     "name": "stdout",
     "output_type": "stream",
     "text": [
      "88.0\n"
     ]
    }
   ],
   "source": [
    "print(student.average())"
   ]
  },
  {
   "cell_type": "code",
   "execution_count": 10,
   "id": "c70fcc2c",
   "metadata": {},
   "outputs": [],
   "source": [
    "class Student:\n",
    "    def __init__(self, name, grades):\n",
    "        self.name = name\n",
    "        self.grades = grades\n",
    "        \n",
    "    def average(self):\n",
    "        return sum(self.grades)/len(self.grades)"
   ]
  },
  {
   "cell_type": "code",
   "execution_count": 11,
   "id": "2d10d4a5",
   "metadata": {},
   "outputs": [
    {
     "data": {
      "text/plain": [
       "78.6"
      ]
     },
     "execution_count": 11,
     "metadata": {},
     "output_type": "execute_result"
    }
   ],
   "source": [
    "student = Student(\"Bob\", (36, 67, 90, 100, 100))\n",
    "student.average()"
   ]
  },
  {
   "cell_type": "code",
   "execution_count": 13,
   "id": "d29b9077",
   "metadata": {},
   "outputs": [
    {
     "data": {
      "text/plain": [
       "<__main__.Student at 0x1c5d36405b0>"
      ]
     },
     "execution_count": 13,
     "metadata": {},
     "output_type": "execute_result"
    }
   ],
   "source": [
    "student"
   ]
  },
  {
   "cell_type": "code",
   "execution_count": 12,
   "id": "6a2a0271",
   "metadata": {},
   "outputs": [
    {
     "data": {
      "text/plain": [
       "88.0"
      ]
     },
     "execution_count": 12,
     "metadata": {},
     "output_type": "execute_result"
    }
   ],
   "source": [
    "student_2 = Student(\"Rolf\", (89, 90, 93, 78, 90))\n",
    "student_2.average()"
   ]
  },
  {
   "cell_type": "code",
   "execution_count": 14,
   "id": "2df4fb92",
   "metadata": {},
   "outputs": [
    {
     "data": {
      "text/plain": [
       "<__main__.Student at 0x1c5d35f77c0>"
      ]
     },
     "execution_count": 14,
     "metadata": {},
     "output_type": "execute_result"
    }
   ],
   "source": [
    "student_2"
   ]
  },
  {
   "cell_type": "markdown",
   "id": "6a8be834",
   "metadata": {},
   "source": [
    "## Funções x Métodos\n",
    "\n",
    "Uma função que é declarada dentro de uma classe é chamada de método. Assim, métodos são funções, mas nem todas as funções são métodos.\n",
    "\n",
    "**Funções**\n",
    "\n",
    "```Python\n",
    "    def average(sequence):\n",
    "        return sum(sequence)/len(sequence)\n",
    "```\n",
    "\n",
    "**Método**\n",
    "```Python\n",
    "    class Student:\n",
    "        def __init__(self, name, grades):\n",
    "            self.name = name\n",
    "            self.grades = grades\n",
    "\n",
    "        def average(self):\n",
    "            return sum(self.grades)/len(self.grades)\n",
    "```"
   ]
  },
  {
   "cell_type": "markdown",
   "id": "ed12491e",
   "metadata": {},
   "source": [
    "## Métodos Mágicos"
   ]
  },
  {
   "cell_type": "code",
   "execution_count": 15,
   "id": "9cb61103",
   "metadata": {},
   "outputs": [],
   "source": [
    "class Person:\n",
    "    def __init__(self, name, age):\n",
    "        self.name = name\n",
    "        self.age = age\n",
    "        "
   ]
  },
  {
   "cell_type": "code",
   "execution_count": 16,
   "id": "7369f6a5",
   "metadata": {},
   "outputs": [],
   "source": [
    "bob = Person(\"Bob\", 25)"
   ]
  },
  {
   "cell_type": "code",
   "execution_count": 17,
   "id": "ba9cce57",
   "metadata": {},
   "outputs": [
    {
     "data": {
      "text/plain": [
       "<__main__.Person at 0x1c5d35f7fa0>"
      ]
     },
     "execution_count": 17,
     "metadata": {},
     "output_type": "execute_result"
    }
   ],
   "source": [
    "bob"
   ]
  },
  {
   "cell_type": "code",
   "execution_count": 18,
   "id": "28baee92",
   "metadata": {},
   "outputs": [
    {
     "name": "stdout",
     "output_type": "stream",
     "text": [
      "Person Bob, 25 anos de idade\n"
     ]
    }
   ],
   "source": [
    "print(f'Person {bob.name}, {bob.age} anos de idade')"
   ]
  },
  {
   "cell_type": "code",
   "execution_count": 19,
   "id": "0a91d4fd",
   "metadata": {},
   "outputs": [],
   "source": [
    "class Person:\n",
    "    def __init__(self, name, age):\n",
    "        self.name = name\n",
    "        self.age = age\n",
    "    \n",
    "    def __str__(self):\n",
    "        return f'Person {self.name}, {self.age} anos de idade'"
   ]
  },
  {
   "cell_type": "code",
   "execution_count": 20,
   "id": "7123891d",
   "metadata": {},
   "outputs": [
    {
     "name": "stdout",
     "output_type": "stream",
     "text": [
      "Person Bob, 25 anos de idade\n"
     ]
    }
   ],
   "source": [
    "bob = Person(\"Bob\", 25)\n",
    "print(bob)"
   ]
  },
  {
   "cell_type": "code",
   "execution_count": 23,
   "id": "220d8d40",
   "metadata": {},
   "outputs": [],
   "source": [
    "class Person:\n",
    "    def __init__(self, name, age):\n",
    "        self.name = name\n",
    "        self.age = age\n",
    "    \n",
    "    def __repr__(self):\n",
    "        return f'<Person({self.name}, {self.age})>'"
   ]
  },
  {
   "cell_type": "code",
   "execution_count": 24,
   "id": "88845177",
   "metadata": {},
   "outputs": [
    {
     "name": "stdout",
     "output_type": "stream",
     "text": [
      "<Person(Bob, 25)>\n"
     ]
    }
   ],
   "source": [
    "bob = Person(\"Bob\", 25)\n",
    "print(bob)"
   ]
  },
  {
   "cell_type": "code",
   "execution_count": 25,
   "id": "1558e2da",
   "metadata": {},
   "outputs": [],
   "source": [
    "class Person:\n",
    "    def __init__(self, name, age):\n",
    "        self.name = name\n",
    "        self.age = age\n",
    "        \n",
    "    def __repr__(self):\n",
    "        return f'<Person({self.name}, {self.age})>'\n",
    "    \n",
    "    def __str__(self):\n",
    "        return f'Person {self.name}, {self.age} anos de idade'"
   ]
  },
  {
   "cell_type": "code",
   "execution_count": 26,
   "id": "d3caf461",
   "metadata": {},
   "outputs": [
    {
     "name": "stdout",
     "output_type": "stream",
     "text": [
      "Person Bob, 25 anos de idade\n"
     ]
    }
   ],
   "source": [
    "bob = Person(\"Bob\", 25)\n",
    "print(bob)"
   ]
  },
  {
   "cell_type": "code",
   "execution_count": 27,
   "id": "a0812b0a",
   "metadata": {},
   "outputs": [
    {
     "data": {
      "text/plain": [
       "'<Person(Bob, 25)>'"
      ]
     },
     "execution_count": 27,
     "metadata": {},
     "output_type": "execute_result"
    }
   ],
   "source": [
    "repr(bob)"
   ]
  },
  {
   "cell_type": "code",
   "execution_count": 28,
   "id": "f38c5a1a",
   "metadata": {},
   "outputs": [
    {
     "data": {
      "text/plain": [
       "'Person Bob, 25 anos de idade'"
      ]
     },
     "execution_count": 28,
     "metadata": {},
     "output_type": "execute_result"
    }
   ],
   "source": [
    "str(bob)"
   ]
  },
  {
   "cell_type": "code",
   "execution_count": 31,
   "id": "62714988",
   "metadata": {},
   "outputs": [
    {
     "name": "stdout",
     "output_type": "stream",
     "text": [
      "(1/2)\n",
      "Fraction (1,2)\n"
     ]
    }
   ],
   "source": [
    "class Fraction:\n",
    "    def __init__(self, num, den):\n",
    "        self.num = num\n",
    "        self.den = den\n",
    "        \n",
    "    def __str__(self):\n",
    "        return f'({self.num}/{self.den})'\n",
    "    \n",
    "    def __repr__(self):\n",
    "        return 'Fraction (' + str(self.num) + ',' + str(self.den) + ')'\n",
    "    \n",
    "f = Fraction(1,2)\n",
    "print(str(f))\n",
    "print(repr(f))"
   ]
  },
  {
   "cell_type": "markdown",
   "id": "5e4936d7",
   "metadata": {},
   "source": [
    "## Exercício 1 - 15 minutos\n",
    "\n",
    "Complete a implementação dos três métodos da classe:\n",
    "\n",
    "1. O método ```__init__```, que deve receber um argumento (```name```). Ele deve iniciar ```self.name``` para o valor do argumento e ```self.item```para ser uma lista vazia.\n",
    "2. O método ```add_item```, que deve acrescentar um dicionário representando um item para a propriedade ```items```. O dicionário deve ter como chaves ```name``` e ```price```\n",
    "3. O método ```stock_price```, que deve adicionar o preço de cada item dentro de ```self.items``` para obter o total, que deverá ser retornado.\n"
   ]
  },
  {
   "cell_type": "code",
   "execution_count": null,
   "id": "ec23b791",
   "metadata": {},
   "outputs": [],
   "source": [
    "class Store:\n",
    "    def __init__():\n",
    "        # Você vai precisar de 'name' como um argumento para este método\n",
    "        # Inicialize self.name para o valor e self.items como uma lista vazia\n",
    "    \n",
    "    def add_item(self, name, price):\n",
    "        # Crie um dicionario com keys name e price, e adicione a self.items\n",
    "        \n",
    "    def stock_price(self):\n",
    "        # junte toda a informa"
   ]
  }
 ],
 "metadata": {
  "kernelspec": {
   "display_name": "Python 3",
   "language": "python",
   "name": "python3"
  },
  "language_info": {
   "codemirror_mode": {
    "name": "ipython",
    "version": 3
   },
   "file_extension": ".py",
   "mimetype": "text/x-python",
   "name": "python",
   "nbconvert_exporter": "python",
   "pygments_lexer": "ipython3",
   "version": "3.8.8"
  }
 },
 "nbformat": 4,
 "nbformat_minor": 5
}
