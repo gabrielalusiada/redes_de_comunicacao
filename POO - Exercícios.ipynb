{
 "cells": [
  {
   "cell_type": "markdown",
   "id": "d195527b",
   "metadata": {},
   "source": [
    "**Para todas as classes implemente um dos métodos mágicos de impressão**\n",
    "\n",
    "1. Crie uma classe Vehicle sem nenhuma variável ou método (apenas os métodos mágicos)\n",
    "2. Crie uma classe Vehicle com os atributos name, max_speed e mileage\n",
    "3. Crie uma classe filha de Vehicle, Bus, que irá herdar todas as variáveis e métodos da classe Vehicle (criada em 2)\n",
    "4. Considere a classe Bus, filha de Vehicle. Defina um método que retorne o número de assentos com um valor padrão de 50. (Bus.seating_capacity())\n",
    "5. Defina o atributo color com o padrão default white, ou seja, todo veículo deve ser branco.\n",
    "\n",
    "\n",
    "Composição\n",
    "\n",
    "1. Escreva uma classe Student com name, major, grades (lista de inteiros)\n",
    "2. Escreva uma classe Course com name, students (lista de Student)\n",
    "3. Escreva um método na classe Course que retorna a média dos alunos inscritos na cadeira"
   ]
  },
  {
   "cell_type": "code",
   "execution_count": null,
   "id": "6016830b",
   "metadata": {},
   "outputs": [],
   "source": []
  }
 ],
 "metadata": {
  "kernelspec": {
   "display_name": "Python 3",
   "language": "python",
   "name": "python3"
  },
  "language_info": {
   "codemirror_mode": {
    "name": "ipython",
    "version": 3
   },
   "file_extension": ".py",
   "mimetype": "text/x-python",
   "name": "python",
   "nbconvert_exporter": "python",
   "pygments_lexer": "ipython3",
   "version": "3.8.8"
  }
 },
 "nbformat": 4,
 "nbformat_minor": 5
}
